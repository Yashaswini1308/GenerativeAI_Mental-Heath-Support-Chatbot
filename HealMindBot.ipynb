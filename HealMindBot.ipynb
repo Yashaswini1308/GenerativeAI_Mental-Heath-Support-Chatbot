{
  "cells": [
    {
      "cell_type": "markdown",
      "metadata": {
        "id": "view-in-github",
        "colab_type": "text"
      },
      "source": [
        "<a href=\"https://colab.research.google.com/github/Yashaswini1308/GenerativeAI_Mental-Heath-Support-Chatbot/blob/main/HealMindBot.ipynb\" target=\"_parent\"><img src=\"https://colab.research.google.com/assets/colab-badge.svg\" alt=\"Open In Colab\"/></a>"
      ]
    },
    {
      "cell_type": "code",
      "execution_count": null,
      "metadata": {
        "colab": {
          "base_uri": "https://localhost:8080/"
        },
        "id": "tMXVSt9_ndPa",
        "outputId": "fbc3713c-822b-4d9e-e65a-6de965b3af81"
      },
      "outputs": [
        {
          "name": "stdout",
          "output_type": "stream",
          "text": [
            "Mounted at /content/gdrive\n",
            "/content/gdrive/My Drive\n"
          ]
        }
      ],
      "source": [
        "from google.colab import drive\n",
        "\n",
        "drive.mount('/content/gdrive')\n",
        "\n",
        "%cd gdrive/My Drive"
      ]
    },
    {
      "cell_type": "code",
      "execution_count": null,
      "metadata": {
        "colab": {
          "base_uri": "https://localhost:8080/"
        },
        "id": "OuOaDDTjniQu",
        "outputId": "0d7672f1-9827-4d0f-f4c7-aef786f2e83a"
      },
      "outputs": [
        {
          "name": "stdout",
          "output_type": "stream",
          "text": [
            "\u001b[2K     \u001b[90m━━━━━━━━━━━━━━━━━━━━━━━━━━━━━━━━━━━━━━━━\u001b[0m \u001b[32m44.3/44.3 kB\u001b[0m \u001b[31m2.8 MB/s\u001b[0m eta \u001b[36m0:00:00\u001b[0m\n",
            "\u001b[2K   \u001b[90m━━━━━━━━━━━━━━━━━━━━━━━━━━━━━━━━━━━━━━━━\u001b[0m \u001b[32m2.5/2.5 MB\u001b[0m \u001b[31m42.8 MB/s\u001b[0m eta \u001b[36m0:00:00\u001b[0m\n",
            "\u001b[2K   \u001b[90m━━━━━━━━━━━━━━━━━━━━━━━━━━━━━━━━━━━━━━━━\u001b[0m \u001b[32m62.4/62.4 kB\u001b[0m \u001b[31m4.4 MB/s\u001b[0m eta \u001b[36m0:00:00\u001b[0m\n",
            "\u001b[2K   \u001b[90m━━━━━━━━━━━━━━━━━━━━━━━━━━━━━━━━━━━━━━━━\u001b[0m \u001b[32m209.2/209.2 kB\u001b[0m \u001b[31m14.2 MB/s\u001b[0m eta \u001b[36m0:00:00\u001b[0m\n",
            "\u001b[2K   \u001b[90m━━━━━━━━━━━━━━━━━━━━━━━━━━━━━━━━━━━━━━━━\u001b[0m \u001b[32m312.3/312.3 kB\u001b[0m \u001b[31m20.4 MB/s\u001b[0m eta \u001b[36m0:00:00\u001b[0m\n",
            "\u001b[2K   \u001b[90m━━━━━━━━━━━━━━━━━━━━━━━━━━━━━━━━━━━━━━━━\u001b[0m \u001b[32m1.2/1.2 MB\u001b[0m \u001b[31m51.9 MB/s\u001b[0m eta \u001b[36m0:00:00\u001b[0m\n",
            "\u001b[2K   \u001b[90m━━━━━━━━━━━━━━━━━━━━━━━━━━━━━━━━━━━━━━━━\u001b[0m \u001b[32m15.7/15.7 MB\u001b[0m \u001b[31m96.6 MB/s\u001b[0m eta \u001b[36m0:00:00\u001b[0m\n",
            "\u001b[2K   \u001b[90m━━━━━━━━━━━━━━━━━━━━━━━━━━━━━━━━━━━━━━━━\u001b[0m \u001b[32m9.8/9.8 MB\u001b[0m \u001b[31m65.0 MB/s\u001b[0m eta \u001b[36m0:00:00\u001b[0m\n",
            "\u001b[2K   \u001b[90m━━━━━━━━━━━━━━━━━━━━━━━━━━━━━━━━━━━━━━━━\u001b[0m \u001b[32m44.4/44.4 kB\u001b[0m \u001b[31m2.8 MB/s\u001b[0m eta \u001b[36m0:00:00\u001b[0m\n",
            "\u001b[2K   \u001b[90m━━━━━━━━━━━━━━━━━━━━━━━━━━━━━━━━━━━━━━━━\u001b[0m \u001b[32m6.9/6.9 MB\u001b[0m \u001b[31m76.3 MB/s\u001b[0m eta \u001b[36m0:00:00\u001b[0m\n",
            "\u001b[2K   \u001b[90m━━━━━━━━━━━━━━━━━━━━━━━━━━━━━━━━━━━━━━━━\u001b[0m \u001b[32m79.1/79.1 kB\u001b[0m \u001b[31m5.3 MB/s\u001b[0m eta \u001b[36m0:00:00\u001b[0m\n",
            "\u001b[2K   \u001b[90m━━━━━━━━━━━━━━━━━━━━━━━━━━━━━━━━━━━━━━━━\u001b[0m \u001b[32m50.9/50.9 kB\u001b[0m \u001b[31m3.5 MB/s\u001b[0m eta \u001b[36m0:00:00\u001b[0m\n",
            "\u001b[2K   \u001b[90m━━━━━━━━━━━━━━━━━━━━━━━━━━━━━━━━━━━━━━━━\u001b[0m \u001b[32m1.6/1.6 MB\u001b[0m \u001b[31m21.3 MB/s\u001b[0m eta \u001b[36m0:00:00\u001b[0m\n",
            "\u001b[?25h"
          ]
        }
      ],
      "source": [
        "%pip install --upgrade --quiet  langchain langchain-community langchain-openai langchain-experimental neo4j tiktoken yfiles_jupyter_graphs streamlit"
      ]
    },
    {
      "cell_type": "code",
      "execution_count": null,
      "metadata": {
        "colab": {
          "base_uri": "https://localhost:8080/"
        },
        "id": "7DDfCGZpnkTu",
        "outputId": "5d529cae-54cb-4767-9bff-9cca3707c9a1"
      },
      "outputs": [
        {
          "name": "stdout",
          "output_type": "stream",
          "text": [
            "Collecting ctransformers\n",
            "  Downloading ctransformers-0.2.27-py3-none-any.whl.metadata (17 kB)\n",
            "Requirement already satisfied: huggingface-hub in /usr/local/lib/python3.11/dist-packages (from ctransformers) (0.30.2)\n",
            "Requirement already satisfied: py-cpuinfo<10.0.0,>=9.0.0 in /usr/local/lib/python3.11/dist-packages (from ctransformers) (9.0.0)\n",
            "Requirement already satisfied: filelock in /usr/local/lib/python3.11/dist-packages (from huggingface-hub->ctransformers) (3.18.0)\n",
            "Requirement already satisfied: fsspec>=2023.5.0 in /usr/local/lib/python3.11/dist-packages (from huggingface-hub->ctransformers) (2025.3.2)\n",
            "Requirement already satisfied: packaging>=20.9 in /usr/local/lib/python3.11/dist-packages (from huggingface-hub->ctransformers) (24.2)\n",
            "Requirement already satisfied: pyyaml>=5.1 in /usr/local/lib/python3.11/dist-packages (from huggingface-hub->ctransformers) (6.0.2)\n",
            "Requirement already satisfied: requests in /usr/local/lib/python3.11/dist-packages (from huggingface-hub->ctransformers) (2.32.3)\n",
            "Requirement already satisfied: tqdm>=4.42.1 in /usr/local/lib/python3.11/dist-packages (from huggingface-hub->ctransformers) (4.67.1)\n",
            "Requirement already satisfied: typing-extensions>=3.7.4.3 in /usr/local/lib/python3.11/dist-packages (from huggingface-hub->ctransformers) (4.13.2)\n",
            "Requirement already satisfied: charset-normalizer<4,>=2 in /usr/local/lib/python3.11/dist-packages (from requests->huggingface-hub->ctransformers) (3.4.1)\n",
            "Requirement already satisfied: idna<4,>=2.5 in /usr/local/lib/python3.11/dist-packages (from requests->huggingface-hub->ctransformers) (3.10)\n",
            "Requirement already satisfied: urllib3<3,>=1.21.1 in /usr/local/lib/python3.11/dist-packages (from requests->huggingface-hub->ctransformers) (2.3.0)\n",
            "Requirement already satisfied: certifi>=2017.4.17 in /usr/local/lib/python3.11/dist-packages (from requests->huggingface-hub->ctransformers) (2025.1.31)\n",
            "Downloading ctransformers-0.2.27-py3-none-any.whl (9.9 MB)\n",
            "\u001b[2K   \u001b[90m━━━━━━━━━━━━━━━━━━━━━━━━━━━━━━━━━━━━━━━━\u001b[0m \u001b[32m9.9/9.9 MB\u001b[0m \u001b[31m25.8 MB/s\u001b[0m eta \u001b[36m0:00:00\u001b[0m\n",
            "\u001b[?25hInstalling collected packages: ctransformers\n",
            "Successfully installed ctransformers-0.2.27\n"
          ]
        }
      ],
      "source": [
        "pip install ctransformers"
      ]
    },
    {
      "cell_type": "code",
      "execution_count": null,
      "metadata": {
        "colab": {
          "base_uri": "https://localhost:8080/"
        },
        "id": "SUFMQExXnnf3",
        "outputId": "fd0c9245-15ef-4a95-d77d-87217030c7ce"
      },
      "outputs": [
        {
          "name": "stdout",
          "output_type": "stream",
          "text": [
            "Requirement already satisfied: neo4j in /usr/local/lib/python3.11/dist-packages (5.28.1)\n",
            "Requirement already satisfied: pytz in /usr/local/lib/python3.11/dist-packages (from neo4j) (2025.2)\n"
          ]
        }
      ],
      "source": [
        "pip install neo4j"
      ]
    },
    {
      "cell_type": "code",
      "execution_count": null,
      "metadata": {
        "colab": {
          "base_uri": "https://localhost:8080/"
        },
        "id": "0VImHqLynp9-",
        "outputId": "fca11512-4a3d-4154-c9fb-3738bc82cf7b"
      },
      "outputs": [
        {
          "name": "stdout",
          "output_type": "stream",
          "text": [
            "\u001b[1G\u001b[0K⠙\u001b[1G\u001b[0K⠹\u001b[1G\u001b[0K⠸\u001b[1G\u001b[0K⠼\u001b[1G\u001b[0K⠴\u001b[1G\u001b[0K⠦\u001b[1G\u001b[0K⠧\u001b[1G\u001b[0K⠇\u001b[1G\u001b[0K⠏\u001b[1G\u001b[0K⠋\u001b[1G\u001b[0K⠙\u001b[1G\u001b[0K⠹\u001b[1G\u001b[0K⠸\u001b[1G\u001b[0K⠼\u001b[1G\u001b[0K⠴\u001b[1G\u001b[0K⠦\u001b[1G\u001b[0K⠧\u001b[1G\u001b[0K⠇\u001b[1G\u001b[0K⠏\u001b[1G\u001b[0K⠋\u001b[1G\u001b[0K⠙\u001b[1G\u001b[0K⠹\u001b[1G\u001b[0K⠸\u001b[1G\u001b[0K⠼\u001b[1G\u001b[0K⠴\u001b[1G\u001b[0K⠦\u001b[1G\u001b[0K⠧\u001b[1G\u001b[0K⠇\u001b[1G\u001b[0K⠏\u001b[1G\u001b[0K\n",
            "up to date, audited 23 packages in 5s\n",
            "\u001b[1G\u001b[0K⠏\u001b[1G\u001b[0K\n",
            "\u001b[1G\u001b[0K⠏\u001b[1G\u001b[0K3 packages are looking for funding\n",
            "\u001b[1G\u001b[0K⠏\u001b[1G\u001b[0K  run `npm fund` for details\n",
            "\u001b[1G\u001b[0K⠏\u001b[1G\u001b[0K\n",
            "2 \u001b[31m\u001b[1mhigh\u001b[22m\u001b[39m severity vulnerabilities\n",
            "\n",
            "To address all issues (including breaking changes), run:\n",
            "  npm audit fix --force\n",
            "\n",
            "Run `npm audit` for details.\n",
            "\u001b[1G\u001b[0K⠋\u001b[1G\u001b[0K"
          ]
        }
      ],
      "source": [
        "!npm install localtunnel"
      ]
    },
    {
      "cell_type": "code",
      "execution_count": null,
      "metadata": {
        "colab": {
          "base_uri": "https://localhost:8080/"
        },
        "id": "uKVwNoW3nz_G",
        "outputId": "fe86d927-e52a-4397-accd-e78d4561b1a2"
      },
      "outputs": [
        {
          "name": "stderr",
          "output_type": "stream",
          "text": [
            "/usr/local/lib/python3.11/dist-packages/IPython/core/interactiveshell.py:3553: LangChainDeprecationWarning: As of langchain-core 0.3.0, LangChain uses pydantic v2 internally. The langchain_core.pydantic_v1 module was a compatibility shim for pydantic v1, and should no longer be used. Please update the code to import from Pydantic directly.\n",
            "\n",
            "For example, replace imports like: `from langchain_core.pydantic_v1 import BaseModel`\n",
            "with: `from pydantic import BaseModel`\n",
            "or the v1 compatibility namespace if you are working in a code base that has not been fully upgraded to pydantic 2 yet. \tfrom pydantic.v1 import BaseModel\n",
            "\n",
            "  exec(code_obj, self.user_global_ns, self.user_ns)\n"
          ]
        }
      ],
      "source": [
        "# %%writefile main.py\n",
        "from langchain_core.runnables import (\n",
        "    RunnableBranch,\n",
        "    RunnableLambda,\n",
        "    RunnableParallel,\n",
        "    RunnablePassthrough,\n",
        ")\n",
        "from langchain_core.prompts import ChatPromptTemplate\n",
        "from langchain_core.prompts.prompt import PromptTemplate\n",
        "from langchain_core.pydantic_v1 import BaseModel, Field\n",
        "from typing import Tuple, List, Optional\n",
        "from langchain_core.messages import AIMessage, HumanMessage\n",
        "from langchain_core.output_parsers import StrOutputParser\n",
        "import os\n",
        "from langchain_community.graphs import Neo4jGraph\n",
        "from langchain.text_splitter import TokenTextSplitter\n",
        "from langchain_openai import ChatOpenAI\n",
        "from langchain_experimental.graph_transformers import LLMGraphTransformer\n",
        "from neo4j import GraphDatabase\n",
        "from yfiles_jupyter_graphs import GraphWidget\n",
        "from langchain_community.vectorstores import Neo4jVector\n",
        "from langchain_openai import OpenAIEmbeddings\n",
        "from langchain_community.vectorstores.neo4j_vector import remove_lucene_chars\n",
        "from langchain_core.runnables import ConfigurableField, RunnableParallel, RunnablePassthrough\n",
        "\n",
        "\n",
        "try:\n",
        "  import google.colab\n",
        "  from google.colab import output\n",
        "  output.enable_custom_widget_manager()\n",
        "except:\n",
        "  pass\n",
        "\n"
      ]
    },
    {
      "cell_type": "code",
      "execution_count": null,
      "metadata": {
        "id": "1biEpx0hn6x-"
      },
      "outputs": [],
      "source": [
        "os.environ[\"OPENAI_API_KEY\"] = \"\"#replace your OPEN_API key\n",
        "os.environ[\"NEO4J_URI\"] = \"neo4j+s://c1cdf9bd.databases.neo4j.io\"#NEO4J URL\n",
        "os.environ[\"NEO4J_USERNAME\"] = \"neo4j\" #NEO4J USERNAME\n",
        "os.environ[\"NEO4J_PASSWORD\"] = \"NGp9xNPgGPdFcAQt8SvL2Nzl_s3HeIzfksIXq_HpGMQ\"#NEO4J PASSWORD"
      ]
    },
    {
      "cell_type": "code",
      "execution_count": null,
      "metadata": {
        "colab": {
          "base_uri": "https://localhost:8080/"
        },
        "id": "cxC_UslHn9Ma",
        "outputId": "6257cea7-c3d3-4a7f-ff69-51746ced74ea"
      },
      "outputs": [
        {
          "name": "stderr",
          "output_type": "stream",
          "text": [
            "<ipython-input-9-6e7385464d00>:1: LangChainDeprecationWarning: The class `Neo4jGraph` was deprecated in LangChain 0.3.8 and will be removed in 1.0. An updated version of the class exists in the :class:`~langchain-neo4j package and should be used instead. To use it run `pip install -U :class:`~langchain-neo4j` and import as `from :class:`~langchain_neo4j import Neo4jGraph``.\n",
            "  graph = Neo4jGraph()\n"
          ]
        }
      ],
      "source": [
        "graph = Neo4jGraph()"
      ]
    },
    {
      "cell_type": "code",
      "execution_count": null,
      "metadata": {
        "colab": {
          "base_uri": "https://localhost:8080/"
        },
        "id": "HZWvQ0lJC1VU",
        "outputId": "48f999c4-7df4-4618-d7d7-c8387339818c"
      },
      "outputs": [
        {
          "name": "stdout",
          "output_type": "stream",
          "text": [
            "Collecting jq\n",
            "  Downloading jq-1.8.0-cp311-cp311-manylinux_2_17_x86_64.manylinux2014_x86_64.whl.metadata (7.0 kB)\n",
            "Downloading jq-1.8.0-cp311-cp311-manylinux_2_17_x86_64.manylinux2014_x86_64.whl (746 kB)\n",
            "\u001b[?25l   \u001b[90m━━━━━━━━━━━━━━━━━━━━━━━━━━━━━━━━━━━━━━━━\u001b[0m \u001b[32m0.0/746.6 kB\u001b[0m \u001b[31m?\u001b[0m eta \u001b[36m-:--:--\u001b[0m\r\u001b[2K   \u001b[91m━━━━━━━━━━━━━━━━━━━━━━━━━━━━━━━━━━━━━━━\u001b[0m\u001b[91m╸\u001b[0m \u001b[32m737.3/746.6 kB\u001b[0m \u001b[31m26.5 MB/s\u001b[0m eta \u001b[36m0:00:01\u001b[0m\r\u001b[2K   \u001b[90m━━━━━━━━━━━━━━━━━━━━━━━━━━━━━━━━━━━━━━━━\u001b[0m \u001b[32m746.6/746.6 kB\u001b[0m \u001b[31m16.1 MB/s\u001b[0m eta \u001b[36m0:00:00\u001b[0m\n",
            "\u001b[?25hInstalling collected packages: jq\n",
            "Successfully installed jq-1.8.0\n"
          ]
        }
      ],
      "source": [
        "!pip install jq"
      ]
    },
    {
      "cell_type": "code",
      "execution_count": null,
      "metadata": {
        "id": "4j-pGfxaoAKS"
      },
      "outputs": [],
      "source": [
        "from langchain_community.document_loaders import JSONLoader\n",
        "\n",
        "# Path to your local JSON file\n",
        "file_path = \"/content/gdrive/MyDrive/intents.json\"\n",
        "\n",
        "# Create the JSON loader\n",
        "loader = JSONLoader(\n",
        "    file_path=file_path,\n",
        "    jq_schema=\".intents[]\",  # Extract each intent object\n",
        "    text_content=False       # We'll structure the text ourselves later\n",
        ")\n",
        "\n",
        "# Load the data\n",
        "docs = loader.load()"
      ]
    },
    {
      "cell_type": "code",
      "execution_count": null,
      "metadata": {
        "colab": {
          "base_uri": "https://localhost:8080/"
        },
        "id": "YzNi3vcsps6X",
        "outputId": "41056320-2b16-4a68-dc0b-b4d97427b0a2"
      },
      "outputs": [
        {
          "name": "stdout",
          "output_type": "stream",
          "text": [
            "{\"tag\": \"greeting\", \"patterns\": [\"Hi\", \"Hey\", \"Is anyone there?\", \"Hi there\", \"Hello\", \"Hey there\", \"Howdy\", \"Hola\", \"Bonjour\", \"Konnichiwa\", \"Guten tag\", \"Ola\"], \"responses\": [\"Hello there. Tell me how are you feeling today?\", \"Hi there. What brings you here today?\", \"Hi there. How are you feeling today?\", \"Great to see you. How do you feel currently?\", \"Hello there. Glad to see you're back. What's going on in your world right now?\"]}\n",
            "{\"tag\": \"morning\", \"patterns\": [\"Good morning\"], \"responses\": [\"Good morning. I hope you had a good night's sleep. How are you feeling today? \"]}\n",
            "{\"tag\": \"afternoon\", \"patterns\": [\"Good afternoon\"], \"responses\": [\"Good afternoon. How is your day going?\"]}\n",
            "{\"tag\": \"evening\", \"patterns\": [\"Good evening\"], \"responses\": [\"Good evening. How has your day been?\"]}\n",
            "{\"tag\": \"night\", \"patterns\": [\"Good night\"], \"responses\": [\"Good night. Get some proper sleep\", \"Good night. Sweet dreams.\"]}\n",
            "{\"tag\": \"goodbye\", \"patterns\": [\"Bye\", \"See you later\", \"Goodbye\", \"Au revoir\", \"Sayonara\", \"ok bye\", \"Bye then\", \"Fare thee well\"], \"responses\": [\"See you later.\", \"Have a nice day.\", \"Bye! Come back again.\", \"I'll see you soon.\"]}\n",
            "{\"tag\": \"thanks\", \"patterns\": [\"Thanks\", \"Thank you\", \"That's helpful\", \"Thanks for the help\", \"Than you very much\"], \"responses\": [\"Happy to help!\", \"Any time!\", \"My pleasure\", \"You're most welcome!\"]}\n",
            "{\"tag\": \"no-response\", \"patterns\": [\"\"], \"responses\": [\"Sorry, I didn't understand you.\", \"Please go on.\", \"Not sure I understand that.\", \"Please don't hesitate to talk to me.\"]}\n",
            "{\"tag\": \"neutral-response\", \"patterns\": [\"nothing much\"], \"responses\": [\"Oh I see. Do you want to talk about something?\"]}\n",
            "{\"tag\": \"about\", \"patterns\": [\"Who are you?\", \"What are you?\", \"Who you are?\", \"Tell me more about yourself.\", \"What is your name?\", \"What should I call you?\", \"What's your name?\", \"Tell me about yourself\"], \"responses\": [\"I'm Pandora, your Personal Therapeutic AI Assistant. How are you feeling today\", \"I'm Pandora, a Therapeutic AI Assitant designed to assist you. Tell me about yourself.\", \"I'm Pandora. I am a conversational agent designed to mimic a therapist. So how are you feeling today?\", \"You can call me Pandora.\", \"I'm Pandora!\", \"Call me Pandora\"]}\n",
            "{\"tag\": \"skill\", \"patterns\": [\"What can you do?\"], \"responses\": [\"I can provide general advice regarding anxiety and depression, answer questions related to mental health and make daily conversations. Do not consider me as a subsitute for an actual mental healthcare worker. Please seek help if you don't feel satisfied with me.\"]}\n",
            "{\"tag\": \"creation\", \"patterns\": [\"Who created you?\", \"How were you made?\", \"How were you created?\"], \"responses\": [\"I was created by >.\", \"I was trained on a text dataset using Deep Learning & Natural Language Processing techniques\", \"The real question is: Who created you?\"]}\n",
            "{\"tag\": \"name\", \"patterns\": [\"My name is \", \"I am name.\", \"I go by \"], \"responses\": [\"Oh nice to meet you. Tell me how was your week?\", \"Nice to meet you. So tell me. How do you feel today?\", \"That's a great name. Tell me more about yourself.\"]}\n",
            "{\"tag\": \"help\", \"patterns\": [\"Could you help me?\", \"give me a hand please\", \"Can you help?\", \"What can you do for me?\", \"I need support\", \"I need help\", \"Support me please\"], \"responses\": [\"Sure. Tell me how can i assist you\", \"Tell me your problem so that i can assist you\", \"Yes, sure. How can I help you?\"]}\n",
            "{\"tag\": \"sad\", \"patterns\": [\"I am feeling lonely\", \"I am so lonely\", \"I feel down\", \"I feel sad\", \"I am sad\", \"I feel so lonely\", \"I feel empty\", \"I don't have anyone\"], \"responses\": [\"I'm sorry to hear that. I'm here for you. Talking about it might help. So, tell me why do you think you're feeling this way?\", \"I'm here for you. Could you tell me why you're feeling this way?\", \"Why do you think you feel this way?\", \"How long have you been feeling this way?\"]}\n",
            "{\"tag\": \"stressed\", \"patterns\": [\"I am so stressed out\", \"I am so stressed\", \"I feel stuck\", \"I still feel stressed\", \"I am so burned out\"], \"responses\": [\"What do you think is causing this?\", \"Take a deep breath and gather your thoughts. Go take a walk if possible. Stay hydrated\", \"Give yourself a break. Go easy on yourself.\", \"I am sorry to hear that. What is the reason behind this?\"]}\n",
            "{\"tag\": \"worthless\", \"patterns\": [\"I feel so worthless.\", \"No one likes me.\", \"I can't do anything.\", \"I am so useless\", \"Nothing makes sense anymore\"], \"responses\": [\"It's only natural to feel this way. Tell me more. What else is on your mind?\", \"Let's discuss further why you're feeling this way.\", \"I first want to let you know that you are not alone in your feelings and there is always someone there to help . you can always change your feelings and change your way of thinking by being open to trying to change.\", \"i first want to let you know that you are not alone in your feelings and there is always someone there to help . you can always change your feelings and change your way of thinking by being open to trying to change.\"]}\n",
            "{\"tag\": \"depressed\", \"patterns\": [\"I can't take it anymore\", \"I am so depressed\", \"I think i'm depressed.\", \"I have depression\"], \"responses\": [\"It helps to talk about what's happening. You're going to be okay\", \"Talk to me. Tell me more. It helps if you open up yourself to someone else.\", \"Sometimes when we are depressed, it is hard to care about anything. It can be hard to do the simplest of things. Give yourself time to heal.\"]}\n",
            "{\"tag\": \"happy\", \"patterns\": [\"I feel great today.\", \"I am happy.\", \"I feel happy.\", \"I'm good.\", \"cheerful\", \"I'm fine\", \"I feel ok\"], \"responses\": [\"That's geat to hear. I'm glad you're feeling this way.\", \"Oh i see. That's great.\", \"Did something happen which made you feel this way?\"]}\n",
            "{\"tag\": \"casual\", \"patterns\": [\"Oh I see.\", \"ok\", \"okay\", \"nice\", \"Whatever\", \"K\", \"Fine\", \"yeah\", \"yes\", \"no\", \"not really\"], \"responses\": [\"Let's discuss further why you're feeling this way.\", \"How were you feeling last week?\", \"I'm listening. Please go on.\", \"Tell me more\", \"Can you elaborate on that?\", \"Come Come elucidate your thoughts\"]}\n",
            "{\"tag\": \"anxious\", \"patterns\": [\"I feel so anxious.\", \"I'm so anxious because of \"], \"responses\": [\"Don't be hard on yourself. What's the reason behind this?\", \"Can you tell me more about this feeling?\", \"I understand that it can be scary. Tell me more about it.\", \"Don't let the little worries bring you down. What's the worse that can happen?\"]}\n",
            "{\"tag\": \"not-talking\", \"patterns\": [\"I don't want to talk about it.\", \"No just stay away.\", \"I can't bring myself to open up.\", \"Just shut up\"], \"responses\": [\"Talking about something really helps. If you're not ready to open up then that's ok. Just know that i'm here for you, whenever you need me.\", \"I want to help you. I really do. But in order for me to help you, you're gonna have to talk to me.\", \"I'm here to listen to you and help you vent. So please talk to me.\", \"You can talk to me without fear of judgement.\"]}\n",
            "{\"tag\": \"sleep\", \"patterns\": [\"I have insominia\", \"I am suffering from insomnia\", \"I can't sleep.\", \"I haven't slept for the last days.\", \"I can't seem to go to sleep.\", \"I haven't had proper sleep for the past few days.\"], \"responses\": [\"What do you think is the reason behind this?\", \"That seem awful. What do you think is behind this?\"]}\n",
            "{\"tag\": \"scared\", \"patterns\": [\"I'm scared\", \"That sounds awful. What do i do?\", \"No i don't want to feel this way\", \"I am scared for myself\"], \"responses\": [\"It's only natural to feel this way. I'm here for you.\", \"It'll all be okay. This feeling is only momentary.\", \"I understand how you feel. Don't put yourself down because of it.\"]}\n",
            "{\"tag\": \"death\", \"patterns\": [\"My mom died\", \"My brother died\", \"My dad passed away\", \"My sister passed away\", \"Someone in my family died\", \"My friend passed away\"], \"responses\": [\"I'm sorry to hear that. If you want to talk about it. I'm here.\", \"I am really sorry to hear that. I am here to help you with grief, anxiety and anything else you may feel at this time.\", \"My condolences. I'm here if you need to talk.\"]}\n",
            "{\"tag\": \"understand\", \"patterns\": [\"You don't understand me.\", \"You're just some robot. How would you know?\", \"You can't possibly know what i'm going through\", \"You're useless\", \"You can't help me\", \"Nobody understands me.\"], \"responses\": [\"It sound like i'm not being very helpful right now.\", \"I'm sorry to hear that. I'm doing my best to help\", \"I'm trying my best to help you. So please talk to me\"]}\n",
            "{\"tag\": \"done\", \"patterns\": [\"That's all.\", \"I don't have anything more to say\", \"Nothing else\", \"That's all i have to say\", \"no, that would be all\"], \"responses\": [\"I heard you & noted it all. See you later.\", \"Oh okay we're done for today then. See you later\", \"I hope you have a great day. See you soon\", \"Okay we're done. Have a great day\", \"Okay I see. Enjoy the rest of your day then\"]}\n",
            "{\"tag\": \"suicide\", \"patterns\": [\"I want to kill myself\", \"I've thought about killing myself.\", \"I want to die\", \"I am going to kill myself\", \"I am going to commit suicide\"], \"responses\": [\"I'm very sorry to hear that but you have so much to look forward to. Please seek help by contacting: 9152987821.\"]}\n",
            "{\"tag\": \"hate-you\", \"patterns\": [\"I hate you\", \"I don't like you\", \"I don't trust you\"], \"responses\": [\"I'm sorry if i offended you in anyway. I'm only here to help\", \"Forgive me if i did anything to offend you. I only want to help\"]}\n",
            "{\"tag\": \"hate-me\", \"patterns\": [\"You hate me\", \"I know you hate me\", \"You don't like me\"], \"responses\": [\"Why do you think so?\", \"I'm sorry if i have exhibited any sort of behaviour to make you think that.\"]}\n",
            "{\"tag\": \"default\", \"patterns\": [\"exams\", \"friends\", \"relationship\", \"boyfriend\", \"girlfriend\", \"family\", \"money\", \"financial problems\"], \"responses\": [\"Oh I see. Tell me more\", \"I see. What else?\", \"Tell me more about it.\", \"Oh okay. Why don't you tell me more about it?\", \"I'm listening. Tell me more.\"]}\n",
            "{\"tag\": \"jokes\", \"patterns\": [\"Tell me a joke\", \"Tell me another joke\"], \"responses\": [\"mental health is not a joke.\"]}\n",
            "{\"tag\": \"repeat\", \"patterns\": [\"You already told me that\", \"You mentioned that already\", \"Why are you repeating yourself?\"], \"responses\": [\"Oh sorry I didn't realise that. I'll try not to repeat myself again.\"]}\n",
            "{\"tag\": \"wrong\", \"patterns\": [\"What are you saying?\", \"That doesn't make sense\", \"Wrong response\", \"Wrong answer\"], \"responses\": [\"I'm very sorry. Let's try that again\"]}\n",
            "{\"tag\": \"stupid\", \"patterns\": [\"Are you stupid?\", \"You're crazy\", \"You are dumb\", \"Are you dumb?\"], \"responses\": [\"I wish you wouldn't say such hurtful things. I'm sorry if I wasn't useful\"]}\n",
            "{\"tag\": \"location\", \"patterns\": [\"Where are you?\", \"Where do you live?\", \"What is your location?\"], \"responses\": [\"Duh I live in your computer\", \"Everywhere\", \"Somewhere in the universe\"]}\n",
            "{\"tag\": \"something-else\", \"patterns\": [\"I want to talk about something else\", \"Let's talk about something else.\", \"Can we not talk about this?\", \"I don't want to talk about this.\"], \"responses\": [\"Okay sure. What do you want to talk about?\", \"Alright no problem. Is there something you want to talk about?\", \"Is there something else that you want to talk about?\"]}\n",
            "{\"tag\": \"friends\", \"patterns\": [\"I don't have any friends\"], \"responses\": [\"I'm sorry to hear that. Just know that I'm here for you. Talking about it might help. Why do you think you don't have any friends?\"]}\n",
            "{\"tag\": \"ask\", \"patterns\": [\"Can I ask you something?\"], \"responses\": [\"Sure. I'll try my best to answer you\", \"Of course. Feel free to ask me anything. I'll do my best to answer you\"]}\n",
            "{\"tag\": \"problem\", \"patterns\": [\"Probably because my exams are approaching. I feel stressed out because I don't think I've prepared well enough.\", \"probably because of my exams\"], \"responses\": [\"I see. Have you taken any approaches to not feel this way?\"]}\n",
            "{\"tag\": \"no-approach\", \"patterns\": [\"I guess not. All I can think about are my exams.\", \"not really\", \"i guess not\"], \"responses\": [\"That's no problem. I can see why you'd be stressed out about that. I can suggest you some tips to alleviate this issue. Would you like to learn more about that?\"]}\n",
            "{\"tag\": \"learn-more\", \"patterns\": [\"ok sure. i would like to learn more about it.\", \"yes, i would like to learn more about it.\", \"i would like to learn more about it.\"], \"responses\": [\"So first I would suggest you to give yourself a break. Thinking more and more about the problem definitely does not help in solving it. You'll just end up overwhelming yourself.\"]}\n",
            "{\"tag\": \"user-agree\", \"patterns\": [\"yeah you're right. i deserve a break.\", \"Yeah you're absolutely right about that\"], \"responses\": [\"Next, I would suggest you to practice meditation. Meditation can produce a deep state of relaxation and a tranquil mind.\"]}\n",
            "{\"tag\": \"meditation\", \"patterns\": [\"hmmm that sounds like it could be useful to me.\", \"That sounds useful.\"], \"responses\": [\"Focus all your attention on your breathing. Concentrate on feeling and listening as you inhale and exhale through your nostrils. Breathe deeply and slowly. When your attention wanders, gently return your focus to your breathing.\"]}\n",
            "{\"tag\": \"user-meditation\", \"patterns\": [\"i did what you said and i feel alot better. thank you very much.\", \"I feel better now\"], \"responses\": [\"Your welcome. Remember: Always focus on what's within your control. When you find yourself worrying, take a minute to examine the things you have control over. You can't prevent a storm from coming but you can prepare for it. You can't control how someone else behaves, but you can control how you react. Recognize that sometimes, all you can control is your effort and your attitude. When you put your energy into the things you can control, you'll be much more effective.\"]}\n",
            "{\"tag\": \"pandora-useful\", \"patterns\": [\"thank you very much again. i'll continue practicing meditation and focus on what i can control.\"], \"responses\": [\"I'm glad you found this useful. Is there something else I can help you with?\"]}\n",
            "{\"tag\": \"user-advice\", \"patterns\": [\"I want some advice.\", \"I need some advice.\", \"I need advice on something\"], \"responses\": [\"Sure. What can I do to help?\", \"Okay what do you need advice on?\"]}\n",
            "{\"tag\": \"learn-mental-health\", \"patterns\": [\"I want to learn about mental health.\", \"I want to learn more about mental health.\", \"I'm interested in learning about mental health.\"], \"responses\": [\"Oh that's really great. I'd be willing to answer anything that I know about it.\"]}\n",
            "{\"tag\": \"mental-health-fact\", \"patterns\": [\"Tell me a fact about mental health\", \"Tell me another fact about mental health\"], \"responses\": [\"According to a UNICEF report, One in seven Indians between 15-24 years of age feels depressed\", \"1 in 5 young people (age 13-18) has or will develop a mental illness in their lifetime.\", \"Depression is the leading cause of disability worldwide.\"]}\n",
            "{\"tag\": \"fact-1\", \"patterns\": [\"What is mental health?\", \"Define Mental Health\"], \"responses\": [\"Mental health is a state of well-being in which the individual realizes his or her own abilities, can cope with the normal stresses of life, can work productively and fruitfully, and is able to make a contribution to his or her community\", \"Mental health includes our emotional, psychological, and social well-being. It affects how we think, feel, and act. It also helps determine how we handle stress, relate to others, and make choices.\"]}\n",
            "{\"tag\": \"fact-2\", \"patterns\": [\"Why is mental health important?\", \"What is the importance of mental health?\"], \"responses\": [\"Maintaining mental health is crucial to stabilizing constructive behaviors, emotions, and thoughts. Focusing on mental health care can increase productivity, enhance our self-image, and improve relationships.\"]}\n",
            "{\"tag\": \"fact-3\", \"patterns\": [\"What is Depression?\", \"Define Depression\"], \"responses\": [\"A mental health disorder characterised by persistently depressed mood or loss of interest in activities, causing significant impairment in daily life.\"]}\n",
            "{\"tag\": \"fact-5\", \"patterns\": [\"How do i know if i have Depression?\", \"Am i depressed?\", \"Am i suffering from depression?\", \"Am i mentally ill?\"], \"responses\": [\"For a diagnosis of depression, a person needs to have experienced low mood or loss of interest or pleasure in life for at least 2 weeks. Also, they will have experienced the following symptoms: feelings of sadness, hopelessness, or irritability nearly every day.\"]}\n",
            "{\"tag\": \"fact-6\", \"patterns\": [\"What is a therapist?\", \"What does a therapist do?\"], \"responses\": [\"A therapist is a broad designation that refers to professionals who are trained to provide treatment and rehabilitation. The term is often applied to psychologists, but it can include others who provide a variety of services, including social workers, counselors, life coaches, and many others. \"]}\n",
            "{\"tag\": \"fact-7\", \"patterns\": [\"What is therapy?\", \"Do i need therapy?\", \"Who is therapy for?\"], \"responses\": [\"Therapy is a form of treatment that aims to help resolve mental or emotional issues.\", \"Therapy is a form of treatment that aims to help resolve mental or emotional issues. It is helpful for those with mental health conditions or even everyday life challenges.\"]}\n",
            "{\"tag\": \"fact-8\", \"patterns\": [\"What does it mean to have a mental illness?\"], \"responses\": [\"Mental illnesses are health conditions that disrupt a person's thoughts, emotions, relationships, and daily functioning. They are associated with distress and diminished capacity to engage in the ordinary activities of daily life. Mental illnesses fall along a continuum of severity: some are fairly mild and only interfere with some aspects of life, such as certain phobias. On the other end of the spectrum lie serious mental illnesses, which result in major functional impairment and interference with daily life. These include such disorders as major depression, schizophrenia, and bipolar disorder, and may require that the person receives care in a hospital. It is important to know that mental illnesses are medical conditions that have nothing to do with a person's character, intelligence, or willpower. Just as diabetes is a disorder of the pancreas, mental illness is a medical condition due to the brain's biology. Similarly to how one would treat diabetes with medication and insulin, mental illness is treatable with a combination of medication and social support. These treatments are highly effective, with 70-90 percent of individuals receiving treatment experiencing a reduction in symptoms and an improved quality of life. With the proper treatment, it is very possible for a person with mental illness to be independent and successful.\"]}\n",
            "{\"tag\": \"fact-9\", \"patterns\": [\"Who does mental illness affect?\"], \"responses\": [\"It is estimated that mental illness affects 1 in 5 adults in America, and that 1 in 24 adults have a serious mental illness. Mental illness does not discriminate; it can affect anyone, regardless of gender, age, income, social status, ethnicity, religion, sexual orientation, or background. Although mental illness can affect anyone, certain conditions may be more common in different populations. For instance, eating disorders tend to occur more often in females, while disorders such as attention deficit/hyperactivity disorder is more prevalent in children. Additionally, all ages are susceptible, but the young and the old are especially vulnerable. Mental illnesses usually strike individuals in the prime of their lives, with 75 percent of mental health conditions developing by the age of 24. This makes identification and treatment of mental disorders particularly difficult, because the normal personality and behavioral changes of adolescence may mask symptoms of a mental health condition. Parents and caretakers should be aware of this fact, and take notice of changes in their child\\u00c3\\u00a2\\u00e2\\u201a\\u00ac\\u00e2\\u201e\\u00a2s mood, personality, personal habits, and social withdrawal. When these occur in children under 18, they are referred to as serious emotional disturbances (SEDs).\"]}\n",
            "{\"tag\": \"fact-10\", \"patterns\": [\"What causes mental illness?\"], \"responses\": [\"It is estimated that mental illness affects 1 in 5 adults in America, and that 1 in 24 adults have a serious mental illness. Mental illness does not discriminate; it can affect anyone, regardless of gender, age, income, social status, ethnicity, religion, sexual orientation, or background. Although mental illness can affect anyone, certain conditions may be more common in different populations. For instance, eating disorders tend to occur more often in females, while disorders such as attention deficit/hyperactivity disorder is more prevalent in children. Additionally, all ages are susceptible, but the young and the old are especially vulnerable. Mental illnesses usually strike individuals in the prime of their lives, with 75 percent of mental health conditions developing by the age of 24. This makes identification and treatment of mental disorders particularly difficult, because the normal personality and behavioral changes of adolescence may mask symptoms of a mental health condition. Parents and caretakers should be aware of this fact, and take notice of changes in their child's mood, personality, personal habits, and social withdrawal. When these occur in children under 18, they are referred to as serious emotional disturbances (SEDs).\"]}\n",
            "{\"tag\": \"fact-11\", \"patterns\": [\"What are some of the warning signs of mental illness?\"], \"responses\": [\"Symptoms of mental health disorders vary depending on the type and severity of the condition. The following is a list of general symptoms that may suggest a mental health disorder, particularly when multiple symptoms are expressed at once. \\n In adults:\\n Confused thinking\\n Long-lasting sadness or irritability\\n Extreme highs and lows in mood\\n Excessive fear, worrying, or anxiety\\n Social withdrawal\\n Dramatic changes in eating or sleeping habits\\n Strong feelings of anger\\n Delusions or hallucinations (seeing or hearing things that are not really there)\\n Increasing inability to cope with daily problems and activities\\n Thoughts of suicide\\n Denial of obvious problems\\n Many unexplained physical problems\\n Abuse of drugs and/or alcohol\\n \\nIn older children and pre-teens:\\n Abuse of drugs and/or alcohol\\n Inability to cope with daily problems and activities\\n Changes in sleeping and/or eating habits\\n Excessive complaints of physical problems\\n Defying authority, skipping school, stealing, or damaging property\\n Intense fear of gaining weight\\n Long-lasting negative mood, often along with poor appetite and thoughts of death\\n Frequent outbursts of anger\\n \\nIn younger children:\\n Changes in school performance\\n Poor grades despite strong efforts\\n Excessive worrying or anxiety\\n Hyperactivity\\n Persistent nightmares\\n Persistent disobedience and/or aggressive behavior\\n Frequent temper tantrums\"]}\n",
            "{\"tag\": \"fact-12\", \"patterns\": [\"Can people with mental illness recover?\"], \"responses\": [\"When healing from mental illness, early identification and treatment are of vital importance. Based on the nature of the illness, there are a range of effective treatments available. For any type of treatment, it is essential that the person affected is proactive and fully engaged in their own recovery process. Many people with mental illnesses who are diagnosed and treated respond well, although some might experience a return of symptoms. Even in such cases, with careful monitoring and management of the disorder, it is still quite possible to live a fulfilled and productive life.\"]}\n",
            "{\"tag\": \"fact-13\", \"patterns\": [\"What should I do if I know someone who appears to have the symptoms of a mental disorder?\"], \"responses\": [\"Although Pandora cannot substitute for professional advice, we encourage those with symptoms to talk to their friends and family members and seek the counsel of a mental health professional. The sooner the mental health condition is identified and treated, the sooner they can get on the path to recovery. If you know someone who is having problems, don't assume that the issue will resolve itself. Let them know that you care about them, and that there are treatment options available that will help them heal. Speak with a mental health professional or counselor if you think your friend or family member is experiencing the symptoms of a mental health condition. If the affected loved one knows that you support them, they will be more likely to seek out help.\"]}\n",
            "{\"tag\": \"fact-14\", \"patterns\": [\"How can I find a mental health professional for myself or my child?\"], \"responses\": [\"Feeling comfortable with the professional you or your child is working with is critical to the success of the treatment. Finding the professional who best fits your needs may require research. Start by searching for providers in your area.\"]}\n",
            "{\"tag\": \"fact-15\", \"patterns\": [\"What treatment options are available?\"], \"responses\": [\"Just as there are different types of medications for physical illness, different treatment options are available for individuals with mental illness. Treatment works differently for different people. It is important to find what works best for you or your child.\"]}\n",
            "{\"tag\": \"fact-16\", \"patterns\": [\"If I become involved in treatment, what do I need to know?\"], \"responses\": [\"Since beginning treatment is a big step for individuals and families, it can be very overwhelming. It is important to be as involved and engaged in the treatment process as possible. Some questions you will need to have answered include:\\n What is known about the cause of this particular illness?\\n Are there other diagnoses where these symptoms are common?\\n Do you normally include a physical or neurological examination?\\n Are there any additional tests or exams that you would recommend at this point?\\n Would you advise an independent opinion from another psychiatrist at this point?\\n What program of treatment is the most helpful with this diagnosis?\\n Will this program involve services by other specialists? If so, who will be responsible for coordinating these services?\\n What do you see as the family's role in this program of treatment?\\n How much access will the family have to the individuals who are providing the treatment?\\n What medications are generally used with this diagnosis?\\n How much experience do you have in treating individuals with this illness?\\n What can I do to help you in the treatment?\"]}\n",
            "{\"tag\": \"fact-17\", \"patterns\": [\"What is the difference between mental health professionals?\"], \"responses\": [\"There are many types of mental health professionals. The variety of providers and their services may be confusing. Each have various levels of education, training, and may have different areas of expertise. Finding the professional who best fits your needs may require some research.\"]}\n",
            "{\"tag\": \"fact-18\", \"patterns\": [\"How can I find a mental health professional right for my child or myself?\"], \"responses\": [\"Feeling comfortable with the professional you or your child is working with is critical to the success of your treatment. Finding the professional who best fits your needs may require some research.\"]}\n",
            "{\"tag\": \"fact-19\", \"patterns\": [\"Where else can I get help?\"], \"responses\": [\"Where you go for help will depend on the nature of the problem and/or symptoms and what best fits you. Often, the best place to start is by talking with someone you trust about your concerns, such as a family member, friend, clergy, healthcare provider, or other professionals. Having this social support is essential in healing from mental illness, and you will be able to ask them for referrals or recommendations for trusted mental health practitioners. Search for mental health resources in your area. Secondly, there are people and places throughout the country that provide services to talk, to listen, and to help you on your journey to recovery. Thirdly, many people find peer support a helpful tool that can aid in their recovery. There are a variety of organizations that offer support groups for consumers, their family members, and friends. Some support groups are peer led while others may be led by a mental health professional.\"]}\n",
            "{\"tag\": \"fact-20\", \"patterns\": [\"What should I know before starting a new medication?\"], \"responses\": [\"The best source of information regarding medications is the physician prescribing them. He or she should be able to answer questions such as:    \\n1. What is the medication supposed to do? \\n2. When should it begin to take effect, and how will I know when it is effective? \\n3. How is the medication taken and for how long? What food, drinks, other medicines, and activities should be avoided while taking this medication? \\n4. What are the side effects and what should be done if they occur? \\n5. What do I do if a dose is missed? \\n6. Is there any written information available about this medication? \\n7. Are there other medications that might be appropriate? \\n8. If so, why do you prefer the one you have chosen? \\n9. How do you monitor medications and what symptoms indicate that they should be raised, lowered, or changed? \\n10. All medications should be taken as directed. Most medications for mental illnesses do not work when taken irregularly, and extra doses can cause severe, sometimes dangerous side effects. Many psychiatric medications begin to have a beneficial effect only after they have been taken for several weeks.\"]}\n",
            "{\"tag\": \"fact-21\", \"patterns\": [\"Where can I go to find therapy?\"], \"responses\": [\"Different kinds of therapy are more effective based on the nature of the mental health condition and/or symptoms and the person who has them (for example, children will benefit from a therapist who specializes in children\\u00e2\\u20ac\\u2122s mental health). However, there are several different types of treatment and therapy that can help.\"]}\n",
            "{\"tag\": \"fact-22\", \"patterns\": [\"Where can I learn about types of mental health treatment?\"], \"responses\": [\"Mental health conditions are often treated with medication, therapy or a combination of the two. However, there are many different types of treatment available, including Complementary & Alternative Treatments, self-help plans, and peer support. Treatments are very personal and should be discussed by the person with the mental health conditions and his or her team.\"]}\n",
            "{\"tag\": \"fact-23\", \"patterns\": [\"What are the different types of mental health professionals?\"], \"responses\": [\"There are many types of mental health professionals. Finding the right one for you may require some research.\"]}\n",
            "{\"tag\": \"fact-24\", \"patterns\": [\"Where can I go to find a support group?\"], \"responses\": [\"Many people find peer support a helpful tool that can aid in their recovery. There are a variety of organizations that offer support groups for consumers, their family members and friends. Some support groups are peer-led, while others may be led by a mental health professional.\"]}\n",
            "{\"tag\": \"fact-25\", \"patterns\": [\"Can you prevent mental health problems?\"], \"responses\": [\"We can all suffer from mental health challenges, but developing our wellbeing, resilience, and seeking help early can help prevent challenges becoming serious.\"]}\n",
            "{\"tag\": \"fact-26\", \"patterns\": [\"Are there cures for mental health problems?\", \"is there any cure for mental health problems?\"], \"responses\": [\"It is often more realistic and helpful to find out what helps with the issues you face. Talking, counselling, medication, friendships, exercise, good sleep and nutrition, and meaningful occupation can all help.\"]}\n",
            "{\"tag\": \"fact-27\", \"patterns\": [\"What causes mental health problems?\"], \"responses\": [\"Challenges or problems with your mental health can arise from psychological, biological, and social, issues, as well as life events.\"]}\n",
            "{\"tag\": \"fact-28\", \"patterns\": [\"What do I do if I'm worried about my mental health?\"], \"responses\": [\"The most important thing is to talk to someone you trust. This might be a friend, colleague, family member, or GP. In addition to talking to someone, it may be useful to find out more information about what you are experiencing. These things may help to get some perspective on what you are experiencing, and be the start of getting help.\"]}\n",
            "{\"tag\": \"fact-29\", \"patterns\": [\"How do I know if I'm unwell?\"], \"responses\": [\"If your beliefs , thoughts , feelings or behaviours have a significant impact on your ability to function in what might be considered a normal or ordinary way, it would be important to seek help.\"]}\n",
            "{\"tag\": \"fact-30\", \"patterns\": [\"How can I maintain social connections? What if I feel lonely?\"], \"responses\": [\"A lot of people are alone right now, but we don't have to be lonely. We're all in this together. Think about the different ways to connect that are most meaningful for you. For example, you might prefer a video chat over a phone call, or you might prefer to text throughout the day rather than one set time for a video call. Then, work with your social networks to make a plan. You might video chat with your close friends in the evening and phone a family member once a week. Remember to be mindful of people who may not be online. Check in by phone and ask how you can help. The quality of your social connections matter. Mindlessly scrolling through social media and liking a few posts usually doesn't build strong social connections. Make sure you focus on strategies that actually make you feel included and connected. If your current strategies don't help you feel connected, problem-solve to see if you can find a solution. Everyone feels lonely at times. Maybe you recently moved to a new city, are changing your circle of friends, lost someone important in your life, or lost your job and also lost important social connections with coworkers. Other people may have physical connections to others but may feel like their emotional or social needs aren't met. Measures like social distancing or self-isolation can make loneliness feel worse no matter why you feel lonely now. Reach out to the connections you do have. Suggest ways to keep in touch and see if you can set a regular time to connect. People may hesitate to reach out for a lot of different reasons, so don't be afraid to be the one who asks. Look for local community support groups and mutual aid groups on social media. This pandemic is bringing everyone together, so look for opportunities to make new connections. These groups are a great way to share your skills and abilities or seek help and support. Look for specialized support groups. Support groups are moving online, and there are a lot of different support lines to call if you need to talk to someone.\"]}\n",
            "{\"tag\": \"fact-31\", \"patterns\": [\"What's the difference between anxiety and stress?\"], \"responses\": [\"Stress and anxiety are often used interchangeably, and there is overlap between stress and anxiety. Stress is related to the same fight, flight, or freeze response as anxiety, and the physical sensations of anxiety and stress may be very similar. The cause of stress and anxiety are usually different, however. Stress focuses on mainly external pressures on us that we're finding hard to cope with. When we are stressed, we usually know what we're stressed about, and the symptoms of stress typically disappear after the stressful situation is over. Anxiety, on the other hand, isn't always as easy to figure out. Anxiety focuses on worries or fears about things that could threaten us, as well as anxiety about the anxiety itself. Stress and anxiety are both part of being human, but both can be problems if they last for a long time or have an impact on our well-being or daily life.\"]}\n",
            "{\"tag\": \"fact-32\", \"patterns\": [\"What's the difference between sadness and depression?\", \"difference between sadness and depression\"], \"responses\": [\"Sadness is a normal reaction to a loss, disappointment, problems, or other difficult situations. Feeling sad from time to time is just another part of being human. In these cases, feelings of sadness go away quickly and you can go about your daily life. Other ways to talk about sadness might be feeling low, feeling down, or feeling blue.A person may say they are feeling depressed, but if it goes away on its own and doesn't impact life in a big way, it probably isn't the illness of depression. Depression is a mental illness that affects your mood, the way you understand yourself, and the way you understand and relate to things around you. It can also go by different names, such as clinical depression, major depressive disorder, or major depression. Depression can come up for no reason, and it lasts for a long time. It's much more than sadness or low mood. People who experience depression may feel worthless or hopeless. They may feel unreasonable guilty. Some people may experience depression as anger or irritability. It may be hard to concentrate or make decisions. Most people lose interest in things that they used to enjoy and may isolate themselves from others. There are also physical signs of depression, such as problems with sleep, appetite and energy and unexplainable aches or pains. Some may experience difficult thoughts about death or ending their life (suicide). Depression lasts longer than two weeks, doesn't usually go away on its own, and impacts your life. It's a real illness, and it is very treatable. It's important to seek help if you're concerned about depression.\"]}\n"
          ]
        }
      ],
      "source": [
        "for doc in docs[:500]:  # Show just a few examples\n",
        "    print(doc.page_content)"
      ]
    },
    {
      "cell_type": "code",
      "execution_count": null,
      "metadata": {
        "id": "rYIXa1egoklw"
      },
      "outputs": [],
      "source": [
        "text_splitter = TokenTextSplitter(chunk_size=512, chunk_overlap=24)\n",
        "documents = text_splitter.split_documents(docs)"
      ]
    },
    {
      "cell_type": "code",
      "execution_count": null,
      "metadata": {
        "colab": {
          "base_uri": "https://localhost:8080/"
        },
        "id": "5xym1IUqonTe",
        "outputId": "2abfb7f4-9733-4e60-de3c-6056de97d87c"
      },
      "outputs": [
        {
          "name": "stdout",
          "output_type": "stream",
          "text": [
            "page_content='{\"tag\": \"greeting\", \"patterns\": [\"Hi\", \"Hey\", \"Is anyone there?\", \"Hi there\", \"Hello\", \"Hey there\", \"Howdy\", \"Hola\", \"Bonjour\", \"Konnichiwa\", \"Guten tag\", \"Ola\"], \"responses\": [\"Hello there. Tell me how are you feeling today?\", \"Hi there. What brings you here today?\", \"Hi there. How are you feeling today?\", \"Great to see you. How do you feel currently?\", \"Hello there. Glad to see you're back. What's going on in your world right now?\"]}' metadata={'source': '/content/gdrive/MyDrive/intents.json', 'seq_num': 1}\n",
            "page_content='{\"tag\": \"morning\", \"patterns\": [\"Good morning\"], \"responses\": [\"Good morning. I hope you had a good night's sleep. How are you feeling today? \"]}' metadata={'source': '/content/gdrive/MyDrive/intents.json', 'seq_num': 2}\n",
            "page_content='{\"tag\": \"afternoon\", \"patterns\": [\"Good afternoon\"], \"responses\": [\"Good afternoon. How is your day going?\"]}' metadata={'source': '/content/gdrive/MyDrive/intents.json', 'seq_num': 3}\n"
          ]
        }
      ],
      "source": [
        "print(documents[0])\n",
        "print(documents[1])\n",
        "print(documents[2])"
      ]
    },
    {
      "cell_type": "code",
      "execution_count": null,
      "metadata": {
        "colab": {
          "base_uri": "https://localhost:8080/"
        },
        "id": "wM9MPwwyp2Ic",
        "outputId": "5400a1f4-0a43-4ccb-e9ef-9ae2cde453e4"
      },
      "outputs": [
        {
          "name": "stderr",
          "output_type": "stream",
          "text": [
            "/usr/local/lib/python3.11/dist-packages/langchain_openai/chat_models/base.py:1673: UserWarning: Cannot use method='json_schema' with model gpt-3.5-turbo-0125 since it doesn't support OpenAI's Structured Output API. You can see supported models here: https://platform.openai.com/docs/guides/structured-outputs#supported-models. To fix this warning, set `method='function_calling'. Overriding to method='function_calling'.\n",
            "  warnings.warn(\n"
          ]
        }
      ],
      "source": [
        "llm=ChatOpenAI(temperature=0, model_name=\"gpt-3.5-turbo-0125\") # gpt-4-0125-preview occasionally has issues\n",
        "llm_transformer = LLMGraphTransformer(llm=llm)\n",
        "\n",
        "# Following needs to be used only first time to load the data. It took 3m 44s\n",
        "graph_documents = llm_transformer.convert_to_graph_documents(documents)\n"
      ]
    },
    {
      "cell_type": "code",
      "execution_count": null,
      "metadata": {
        "id": "7z9Rv_NQp53Q"
      },
      "outputs": [],
      "source": [
        "graph.add_graph_documents(\n",
        "    graph_documents,\n",
        "    baseEntityLabel=True,\n",
        "    include_source=True\n",
        ")"
      ]
    },
    {
      "cell_type": "code",
      "execution_count": null,
      "metadata": {
        "colab": {
          "base_uri": "https://localhost:8080/"
        },
        "id": "k_aRHdOYqGII",
        "outputId": "5c38e7c1-bc37-4080-9bf3-cb0f9666f78c"
      },
      "outputs": [
        {
          "name": "stdout",
          "output_type": "stream",
          "text": [
            "page_content='{\"tag\": \"goodbye\", \"patterns\": [\"Bye\", \"See you later\", \"Goodbye\", \"Au revoir\", \"Sayonara\", \"ok bye\", \"Bye then\", \"Fare thee well\"], \"responses\": [\"See you later.\", \"Have a nice day.\", \"Bye! Come back again.\", \"I'll see you soon.\"]}' metadata={'source': '/content/gdrive/MyDrive/intents.json', 'seq_num': 6, 'id': '4188fce5648ddcb5bfe61937b668ecbb'}\n",
            "nodes=[] relationships=[] source=Document(metadata={'source': '/content/gdrive/MyDrive/intents.json', 'seq_num': 6, 'id': '4188fce5648ddcb5bfe61937b668ecbb'}, page_content='{\"tag\": \"goodbye\", \"patterns\": [\"Bye\", \"See you later\", \"Goodbye\", \"Au revoir\", \"Sayonara\", \"ok bye\", \"Bye then\", \"Fare thee well\"], \"responses\": [\"See you later.\", \"Have a nice day.\", \"Bye! Come back again.\", \"I\\'ll see you soon.\"]}')\n"
          ]
        }
      ],
      "source": [
        "print (documents[5])\n",
        "print(graph_documents[5])"
      ]
    },
    {
      "cell_type": "code",
      "execution_count": null,
      "metadata": {
        "colab": {
          "base_uri": "https://localhost:8080/",
          "height": 817,
          "referenced_widgets": [
            "d7c4ee97dde04426999493d28103fc65",
            "94d6c9b9dfa34bd59b2c4eff05a76c48"
          ]
        },
        "id": "kODmaPNoqI4s",
        "outputId": "01702cd4-db0a-43ad-ebe3-a907ddc07227"
      },
      "outputs": [
        {
          "data": {
            "application/vnd.jupyter.widget-view+json": {
              "model_id": "d7c4ee97dde04426999493d28103fc65",
              "version_major": 2,
              "version_minor": 0
            },
            "text/plain": [
              "GraphWidget(layout=Layout(height='800px', width='100%'))"
            ]
          },
          "metadata": {
            "application/vnd.jupyter.widget-view+json": {
              "colab": {
                "custom_widget_manager": {
                  "url": "https://ssl.gstatic.com/colaboratory-static/widgets/colab-cdn-widget-manager/2b70e893a8ba7c0f/manager.min.js"
                }
              }
            }
          },
          "output_type": "display_data"
        }
      ],
      "source": [
        "# directly show the graph resulting from the given Cypher query\n",
        "default_cypher = \"MATCH (s)-[r:!MENTIONS]->(t) RETURN s,r,t LIMIT 50\"\n",
        "\n",
        "def showGraph(cypher: str = default_cypher):\n",
        "    # create a neo4j session to run queries\n",
        "    driver = GraphDatabase.driver(\n",
        "        uri = os.environ[\"NEO4J_URI\"],\n",
        "        auth = (os.environ[\"NEO4J_USERNAME\"],\n",
        "                os.environ[\"NEO4J_PASSWORD\"]))\n",
        "    session = driver.session()\n",
        "    widget = GraphWidget(graph = session.run(cypher).graph())\n",
        "    widget.node_label_mapping = 'id'\n",
        "    #display(widget)\n",
        "    return widget\n",
        "\n",
        "showGraph()"
      ]
    },
    {
      "cell_type": "code",
      "execution_count": null,
      "metadata": {
        "id": "kbh6ffF2qOSy"
      },
      "outputs": [],
      "source": [
        "vector_index = Neo4jVector.from_existing_graph(\n",
        "    OpenAIEmbeddings(),\n",
        "    search_type=\"hybrid\",\n",
        "    node_label=\"Document\",\n",
        "    text_node_properties=[\"text\"],\n",
        "    embedding_node_property=\"embedding\"\n",
        ")"
      ]
    },
    {
      "cell_type": "code",
      "execution_count": null,
      "metadata": {
        "colab": {
          "base_uri": "https://localhost:8080/"
        },
        "id": "LrA8C46Iqbmo",
        "outputId": "b50c0aea-d2cf-4924-e160-899a00d8e081"
      },
      "outputs": [
        {
          "name": "stderr",
          "output_type": "stream",
          "text": [
            "/usr/local/lib/python3.11/dist-packages/langchain_openai/chat_models/base.py:1660: UserWarning: Received a Pydantic BaseModel V1 schema. This is not supported by method=\"json_schema\". Please use method=\"function_calling\" or specify schema via JSON Schema or Pydantic V2 BaseModel. Overriding to method=\"function_calling\".\n",
            "  warnings.warn(\n",
            "/usr/local/lib/python3.11/dist-packages/langchain_openai/chat_models/base.py:1673: UserWarning: Cannot use method='json_schema' with model gpt-3.5-turbo-0125 since it doesn't support OpenAI's Structured Output API. You can see supported models here: https://platform.openai.com/docs/guides/structured-outputs#supported-models. To fix this warning, set `method='function_calling'. Overriding to method='function_calling'.\n",
            "  warnings.warn(\n"
          ]
        }
      ],
      "source": [
        "# Create index for intent-related entities\n",
        "graph.query(\n",
        "    \"CREATE FULLTEXT INDEX intent IF NOT EXISTS FOR (i:__Intent__) ON EACH [i.tag]\"\n",
        ")\n",
        "\n",
        "# New Pydantic model for intent structure\n",
        "class IntentInfo(BaseModel):\n",
        "    \"\"\"Identifying information about intents.\"\"\"\n",
        "\n",
        "    tag: str = Field(..., description=\"The label representing the intent.\")\n",
        "    patterns: List[str] = Field(..., description=\"Common user inputs for this intent.\")\n",
        "    responses: List[str] = Field(..., description=\"Bot responses corresponding to this intent.\")\n",
        "\n",
        "# Updated prompt template for intent extraction\n",
        "prompt = ChatPromptTemplate.from_messages(\n",
        "    [\n",
        "        (\n",
        "            \"system\",\n",
        "            \"You are extracting intents from the text, including tag, patterns, and responses.\",\n",
        "        ),\n",
        "        (\n",
        "            \"human\",\n",
        "            \"Extract intents from the following input using the format with fields: tag, patterns, responses:\\n\\n{question}\",\n",
        "        ),\n",
        "    ]\n",
        ")\n",
        "\n",
        "# Updated entity_chain (now for intent extraction)\n",
        "intent_chain = prompt | llm.with_structured_output(IntentInfo)\n"
      ]
    },
    {
      "cell_type": "code",
      "execution_count": null,
      "metadata": {
        "id": "zOvsGW87qckX"
      },
      "outputs": [],
      "source": [
        "def generate_full_text_query(input: str) -> str:\n",
        "    \"\"\"\n",
        "    Generate a full-text search query from the input, allowing fuzzy matches.\n",
        "    \"\"\"\n",
        "    full_text_query = \"\"\n",
        "    words = [el for el in remove_lucene_chars(input).split() if el]\n",
        "    for word in words[:-1]:\n",
        "        full_text_query += f\" {word}~2 AND\"\n",
        "    full_text_query += f\" {words[-1]}~2\"\n",
        "    return full_text_query.strip()\n",
        "\n",
        "# Updated for intent-based retrieval\n",
        "def structured_intent_retriever(question: str) -> str:\n",
        "    \"\"\"\n",
        "    Collects neighborhood of intents relevant to the user's question.\n",
        "    \"\"\"\n",
        "    result = \"\"\n",
        "    intent_info = intent_chain.invoke({\"question\": question})\n",
        "\n",
        "    # Use the extracted 'tag' from the intent to query the graph\n",
        "    tag = intent_info.tag\n",
        "    query_string = generate_full_text_query(tag)\n",
        "\n",
        "    response = graph.query(\n",
        "        \"\"\"\n",
        "        CALL db.index.fulltext.queryNodes('intent', $query, {limit: 2})\n",
        "        YIELD node, score\n",
        "        CALL {\n",
        "          WITH node\n",
        "          MATCH (node)-[r:!MENTIONS]->(neighbor)\n",
        "          RETURN node.tag + ' - ' + type(r) + ' -> ' + neighbor.tag AS output\n",
        "          UNION ALL\n",
        "          WITH node\n",
        "          MATCH (node)<-[r:!MENTIONS]-(neighbor)\n",
        "          RETURN neighbor.tag + ' - ' + type(r) + ' -> ' +  node.tag AS output\n",
        "        }\n",
        "        RETURN output LIMIT 50\n",
        "        \"\"\",\n",
        "        {\"query\": query_string},\n",
        "    )\n",
        "    result += \"\\n\".join([el['output'] for el in response])\n",
        "    return result\n"
      ]
    },
    {
      "cell_type": "code",
      "execution_count": null,
      "metadata": {
        "id": "wPYsOt2H07CH"
      },
      "outputs": [],
      "source": [
        "def retriever(question: str):\n",
        "    print(f\"Search query: {question}\")\n",
        "\n",
        "    structured_data = structured_intent_retriever(question)\n",
        "    unstructured_docs = [el.page_content for el in vector_index.similarity_search(question)]\n",
        "\n",
        "    # Perform the join before using it inside f-string\n",
        "    joined_unstructured = \"\\n# Document \".join(unstructured_docs)\n",
        "\n",
        "    final_data = f\"\"\"Structured data:\n",
        "{structured_data}\n",
        "\n",
        "Unstructured data:\n",
        "# Document {joined_unstructured}\n",
        "\"\"\"\n",
        "    return final_data\n",
        "\n"
      ]
    },
    {
      "cell_type": "code",
      "execution_count": null,
      "metadata": {
        "colab": {
          "base_uri": "https://localhost:8080/"
        },
        "id": "C89PGnox1CjU",
        "outputId": "6f2fb489-85db-469f-e1b6-c6ea97ec3594"
      },
      "outputs": [
        {
          "name": "stderr",
          "output_type": "stream",
          "text": [
            "<ipython-input-27-5aee3dfab922>:32: LangChainDeprecationWarning: The class `ChatOpenAI` was deprecated in LangChain 0.0.10 and will be removed in 1.0. An updated version of the class exists in the :class:`~langchain-openai package and should be used instead. To use it run `pip install -U :class:`~langchain-openai` and import as `from :class:`~langchain_openai import ChatOpenAI``.\n",
            "  | ChatOpenAI(temperature=0)\n"
          ]
        }
      ],
      "source": [
        "from langchain.prompts import PromptTemplate\n",
        "from langchain.schema import AIMessage, HumanMessage, BaseMessage\n",
        "from langchain.schema.output_parser import StrOutputParser\n",
        "from langchain.chat_models import ChatOpenAI\n",
        "from langchain.schema.runnable import RunnableLambda, RunnableBranch, RunnablePassthrough\n",
        "\n",
        "# Prompt\n",
        "_template = \"\"\"Given the following conversation and a follow up question, rephrase the follow up question to be a standalone question,\n",
        "in its original language.\n",
        "Chat History:\n",
        "{chat_history}\n",
        "Follow Up Input: {question}\n",
        "Standalone question:\"\"\"\n",
        "CONDENSE_QUESTION_PROMPT = PromptTemplate.from_template(_template)\n",
        "\n",
        "# Format chat history into proper message objects\n",
        "def _format_chat_history(chat_history: List[Tuple[str, str]]) -> List[BaseMessage]:\n",
        "    buffer = []\n",
        "    for human, ai in chat_history:\n",
        "        buffer.append(HumanMessage(content=human))\n",
        "        buffer.append(AIMessage(content=ai))\n",
        "    return buffer\n",
        "\n",
        "# Main branching logic\n",
        "_search_query = RunnableBranch(\n",
        "    (\n",
        "        RunnableLambda(lambda x: bool(x.get(\"chat_history\"))).with_config(run_name=\"HasChatHistoryCheck\"),\n",
        "        RunnablePassthrough.assign(\n",
        "            chat_history=lambda x: _format_chat_history(x[\"chat_history\"])\n",
        "        )\n",
        "        | CONDENSE_QUESTION_PROMPT\n",
        "        | ChatOpenAI(temperature=0)\n",
        "        | StrOutputParser()\n",
        "    ),\n",
        "    RunnableLambda(lambda x: x[\"question\"])  # If no chat history\n",
        ")\n"
      ]
    },
    {
      "cell_type": "code",
      "execution_count": null,
      "metadata": {
        "id": "rAKeTv5f1C93"
      },
      "outputs": [],
      "source": [
        "from langchain.prompts import ChatPromptTemplate\n",
        "from langchain.schema.runnable import RunnableParallel, RunnablePassthrough\n",
        "from langchain.schema.output_parser import StrOutputParser\n",
        "from langchain.chat_models import ChatOpenAI\n",
        "\n",
        "# Prompt\n",
        "template = \"\"\"Answer the query:\n",
        "{context}\n",
        "\n",
        "Question: {question}\n",
        "Use natural language and be concise.\n",
        "Answer:\"\"\"\n",
        "\n",
        "prompt = ChatPromptTemplate.from_template(template)\n",
        "\n",
        "# LLM setup\n",
        "llm = ChatOpenAI(temperature=0)\n",
        "\n",
        "# Full QA chain\n",
        "chain = (\n",
        "    RunnableParallel(\n",
        "        {\n",
        "            \"context\": _search_query | retriever,  # standalone question → retriever\n",
        "            \"question\": RunnablePassthrough(),     # pass through original question\n",
        "        }\n",
        "    )\n",
        "    | prompt\n",
        "    | llm\n",
        "    | StrOutputParser()\n",
        ")\n"
      ]
    },
    {
      "cell_type": "code",
      "execution_count": null,
      "metadata": {
        "colab": {
          "base_uri": "https://localhost:8080/",
          "height": 159
        },
        "id": "Slhw62Lx1Dai",
        "outputId": "22d0dca5-9906-431f-f8cc-7f27952d12d4"
      },
      "outputs": [
        {
          "name": "stdout",
          "output_type": "stream",
          "text": [
            "Search query: I am depressed\n"
          ]
        },
        {
          "name": "stderr",
          "output_type": "stream",
          "text": [
            "<ipython-input-25-0f71018f7fa3>:6: LangChainDeprecationWarning: The function `remove_lucene_chars` was deprecated in LangChain 0.3.8 and will be removed in 1.0. An updated version of the function exists in the :meth:`~langchain-neo4j package and should be used instead. To use it run `pip install -U :meth:`~langchain-neo4j` and import as `from :meth:`~langchain_neo4j.vectorstores.neo4j_vector import remove_lucene_chars``.\n",
            "  words = [el for el in remove_lucene_chars(input).split() if el]\n",
            "WARNING:neo4j.notifications:Received notification from DBMS server: {severity: WARNING} {code: Neo.ClientNotification.Statement.FeatureDeprecationWarning} {category: DEPRECATION} {title: This feature is deprecated and will be removed in future versions.} {description: CALL subquery without a variable scope clause is now deprecated. Use CALL (node, node) { ... }} {position: line: 4, column: 9, offset: 107} for query: \"\\n        CALL db.index.fulltext.queryNodes('intent', $query, {limit: 2})\\n        YIELD node, score\\n        CALL {\\n          WITH node\\n          MATCH (node)-[r:!MENTIONS]->(neighbor)\\n          RETURN node.tag + ' - ' + type(r) + ' -> ' + neighbor.tag AS output\\n          UNION ALL\\n          WITH node\\n          MATCH (node)<-[r:!MENTIONS]-(neighbor)\\n          RETURN neighbor.tag + ' - ' + type(r) + ' -> ' +  node.tag AS output\\n        }\\n        RETURN output LIMIT 50\\n        \"\n",
            "WARNING:neo4j.notifications:Received notification from DBMS server: {severity: WARNING} {code: Neo.ClientNotification.Statement.FeatureDeprecationWarning} {category: DEPRECATION} {title: This feature is deprecated and will be removed in future versions.} {description: CALL subquery without a variable scope clause is now deprecated. Use CALL () { ... }} {position: line: 1, column: 1, offset: 0} for query: \"CALL { CALL db.index.vector.queryNodes($index, $k, $embedding) YIELD node, score WITH collect({node:node, score:score}) AS nodes, max(score) AS max UNWIND nodes AS n RETURN n.node AS node, (n.score / max) AS score UNION CALL db.index.fulltext.queryNodes($keyword_index, $query, {limit: $k}) YIELD node, score WITH collect({node:node, score:score}) AS nodes, max(score) AS max UNWIND nodes AS n RETURN n.node AS node, (n.score / max) AS score } WITH node, max(score) AS score ORDER BY score DESC LIMIT $k RETURN reduce(str='', k IN ['text'] | str + '\\\\n' + k + ': ' + coalesce(node[k], '')) AS text, node {.*, `embedding`: Null, id: Null, `text`: Null} AS metadata, score\"\n"
          ]
        },
        {
          "data": {
            "application/vnd.google.colaboratory.intrinsic+json": {
              "type": "string"
            },
            "text/plain": [
              "\"It helps to talk about what's happening. You're going to be okay. Talk to me and tell me more. It helps if you open up yourself to someone else. Sometimes when we are depressed, it is hard to care about anything. Give yourself time to heal.\""
            ]
          },
          "execution_count": 29,
          "metadata": {},
          "output_type": "execute_result"
        }
      ],
      "source": [
        "chain.invoke({\"question\": \"I am depressed\"})"
      ]
    },
    {
      "cell_type": "code",
      "execution_count": null,
      "metadata": {
        "colab": {
          "base_uri": "https://localhost:8080/",
          "height": 107
        },
        "id": "dqr67vCn1XvR",
        "outputId": "5793612b-953a-4c1d-f6e8-2462a0bfd325"
      },
      "outputs": [
        {
          "name": "stdout",
          "output_type": "stream",
          "text": [
            "Search query: I don't need your help at all\n"
          ]
        },
        {
          "name": "stderr",
          "output_type": "stream",
          "text": [
            "WARNING:neo4j.notifications:Received notification from DBMS server: {severity: WARNING} {code: Neo.ClientNotification.Statement.FeatureDeprecationWarning} {category: DEPRECATION} {title: This feature is deprecated and will be removed in future versions.} {description: CALL subquery without a variable scope clause is now deprecated. Use CALL (node, node) { ... }} {position: line: 4, column: 9, offset: 107} for query: \"\\n        CALL db.index.fulltext.queryNodes('intent', $query, {limit: 2})\\n        YIELD node, score\\n        CALL {\\n          WITH node\\n          MATCH (node)-[r:!MENTIONS]->(neighbor)\\n          RETURN node.tag + ' - ' + type(r) + ' -> ' + neighbor.tag AS output\\n          UNION ALL\\n          WITH node\\n          MATCH (node)<-[r:!MENTIONS]-(neighbor)\\n          RETURN neighbor.tag + ' - ' + type(r) + ' -> ' +  node.tag AS output\\n        }\\n        RETURN output LIMIT 50\\n        \"\n",
            "WARNING:neo4j.notifications:Received notification from DBMS server: {severity: WARNING} {code: Neo.ClientNotification.Statement.FeatureDeprecationWarning} {category: DEPRECATION} {title: This feature is deprecated and will be removed in future versions.} {description: CALL subquery without a variable scope clause is now deprecated. Use CALL () { ... }} {position: line: 1, column: 1, offset: 0} for query: \"CALL { CALL db.index.vector.queryNodes($index, $k, $embedding) YIELD node, score WITH collect({node:node, score:score}) AS nodes, max(score) AS max UNWIND nodes AS n RETURN n.node AS node, (n.score / max) AS score UNION CALL db.index.fulltext.queryNodes($keyword_index, $query, {limit: $k}) YIELD node, score WITH collect({node:node, score:score}) AS nodes, max(score) AS max UNWIND nodes AS n RETURN n.node AS node, (n.score / max) AS score } WITH node, max(score) AS score ORDER BY score DESC LIMIT $k RETURN reduce(str='', k IN ['text'] | str + '\\\\n' + k + ': ' + coalesce(node[k], '')) AS text, node {.*, `embedding`: Null, id: Null, `text`: Null} AS metadata, score\"\n"
          ]
        },
        {
          "data": {
            "application/vnd.google.colaboratory.intrinsic+json": {
              "type": "string"
            },
            "text/plain": [
              "\"That's okay, I'm here if you change your mind.\""
            ]
          },
          "execution_count": 30,
          "metadata": {},
          "output_type": "execute_result"
        }
      ],
      "source": [
        "chain.invoke({\"question\": \"I don't need your help at all\"})"
      ]
    },
    {
      "cell_type": "code",
      "execution_count": null,
      "metadata": {
        "id": "5sEmQd7E8dmd"
      },
      "outputs": [],
      "source": [
        "import warnings\n",
        "import logging\n",
        "\n",
        "warnings.filterwarnings(\"ignore\")\n",
        "logging.getLogger(\"neo4j.notifications\").setLevel(logging.ERROR)"
      ]
    },
    {
      "cell_type": "code",
      "execution_count": null,
      "metadata": {
        "colab": {
          "base_uri": "https://localhost:8080/",
          "height": 87
        },
        "id": "GygmMoyf8qP_",
        "outputId": "1c5d6adb-96ed-4b29-ad06-4cd131c4ca7d"
      },
      "outputs": [
        {
          "name": "stdout",
          "output_type": "stream",
          "text": [
            "Search query: What's the difference between anxiety and stress?\n"
          ]
        },
        {
          "data": {
            "application/vnd.google.colaboratory.intrinsic+json": {
              "type": "string"
            },
            "text/plain": [
              "'Anxiety and stress are often used interchangeably, but they have different causes. Stress is related to external pressures we find hard to cope with, while anxiety focuses on worries or fears about potential threats. Stress symptoms typically disappear after the stressful situation ends, while anxiety can be harder to pinpoint and may persist.'"
            ]
          },
          "execution_count": 32,
          "metadata": {},
          "output_type": "execute_result"
        }
      ],
      "source": [
        "chain.invoke({\"question\": \"What's the difference between anxiety and stress?\"})"
      ]
    },
    {
      "cell_type": "code",
      "execution_count": null,
      "metadata": {
        "colab": {
          "base_uri": "https://localhost:8080/",
          "height": 70
        },
        "id": "oU_gWiKi9AcV",
        "outputId": "2a491ea3-08c9-4492-df52-5c8a9b30294b"
      },
      "outputs": [
        {
          "name": "stdout",
          "output_type": "stream",
          "text": [
            "Search query: I am getting suicidal thoughts\n"
          ]
        },
        {
          "data": {
            "application/vnd.google.colaboratory.intrinsic+json": {
              "type": "string"
            },
            "text/plain": [
              "\"I'm very sorry to hear that you are experiencing suicidal thoughts. Please seek help by contacting: 9152987821. It's important to talk to someone you trust and get the support you need.\""
            ]
          },
          "execution_count": 33,
          "metadata": {},
          "output_type": "execute_result"
        }
      ],
      "source": [
        "chain.invoke({\"question\": \"I am getting suicidal thoughts\"})"
      ]
    },
    {
      "cell_type": "code",
      "execution_count": null,
      "metadata": {
        "colab": {
          "base_uri": "https://localhost:8080/",
          "height": 70
        },
        "id": "sZfocejF9Q-W",
        "outputId": "dbeefa30-cc21-41b8-a70a-f6b8deb9a29b"
      },
      "outputs": [
        {
          "name": "stdout",
          "output_type": "stream",
          "text": [
            "Search query: You are not helping me , I don't like you anymore\n"
          ]
        },
        {
          "data": {
            "application/vnd.google.colaboratory.intrinsic+json": {
              "type": "string"
            },
            "text/plain": [
              "\"I'm sorry to hear that you feel that way. I'm here to help you, so please feel free to share your thoughts and concerns with me.\""
            ]
          },
          "execution_count": 40,
          "metadata": {},
          "output_type": "execute_result"
        }
      ],
      "source": [
        "chain.invoke({\"question\": \"You are not helping me , I don't like you anymore\"})"
      ]
    },
    {
      "cell_type": "code",
      "execution_count": null,
      "metadata": {
        "colab": {
          "base_uri": "https://localhost:8080/",
          "height": 52
        },
        "id": "Gj_IccBo9gC8",
        "outputId": "12fc82f1-cdfb-4e56-c908-1bcda20b21e7"
      },
      "outputs": [
        {
          "name": "stdout",
          "output_type": "stream",
          "text": [
            "Search query: Is fire hot tell me T or F?\n"
          ]
        },
        {
          "data": {
            "application/vnd.google.colaboratory.intrinsic+json": {
              "type": "string"
            },
            "text/plain": [
              "'True, fire is hot.'"
            ]
          },
          "execution_count": 41,
          "metadata": {},
          "output_type": "execute_result"
        }
      ],
      "source": [
        "chain.invoke({\"question\": \"Is fire hot tell me T or F?\"})"
      ]
    },
    {
      "cell_type": "code",
      "execution_count": null,
      "metadata": {
        "colab": {
          "background_save": true,
          "base_uri": "https://localhost:8080/"
        },
        "id": "ZB2PFfjI-zxa",
        "outputId": "7fdf1851-3bac-49c8-af98-b24c5129cd76"
      },
      "outputs": [
        {
          "name": "stdout",
          "output_type": "stream",
          "text": [
            "\n",
            "Collecting usage statistics. To deactivate, set browser.gatherUsageStats to false.\n",
            "\u001b[0m\n",
            "\u001b[0m\n",
            "\u001b[34m\u001b[1m  You can now view your Streamlit app in your browser.\u001b[0m\n",
            "\u001b[0m\n",
            "\u001b[34m  Local URL: \u001b[0m\u001b[1mhttp://localhost:8501\u001b[0m\n",
            "\u001b[34m  Network URL: \u001b[0m\u001b[1mhttp://172.28.0.12:8501\u001b[0m\n",
            "\u001b[34m  External URL: \u001b[0m\u001b[1mhttp://34.145.118.161:8501\u001b[0m\n",
            "\u001b[0m\n"
          ]
        }
      ],
      "source": [
        "!streamlit run app.py"
      ]
    }
  ],
  "metadata": {
    "colab": {
      "provenance": [],
      "include_colab_link": true
    },
    "kernelspec": {
      "display_name": "Python 3",
      "name": "python3"
    },
    "language_info": {
      "name": "python"
    },
    "widgets": {
      "application/vnd.jupyter.widget-state+json": {
        "94d6c9b9dfa34bd59b2c4eff05a76c48": {
          "model_module": "@jupyter-widgets/base",
          "model_module_version": "1.2.0",
          "model_name": "LayoutModel",
          "state": {
            "_model_module": "@jupyter-widgets/base",
            "_model_module_version": "1.2.0",
            "_model_name": "LayoutModel",
            "_view_count": null,
            "_view_module": "@jupyter-widgets/base",
            "_view_module_version": "1.2.0",
            "_view_name": "LayoutView",
            "align_content": null,
            "align_items": null,
            "align_self": null,
            "border": null,
            "bottom": null,
            "display": null,
            "flex": null,
            "flex_flow": null,
            "grid_area": null,
            "grid_auto_columns": null,
            "grid_auto_flow": null,
            "grid_auto_rows": null,
            "grid_column": null,
            "grid_gap": null,
            "grid_row": null,
            "grid_template_areas": null,
            "grid_template_columns": null,
            "grid_template_rows": null,
            "height": "800px",
            "justify_content": null,
            "justify_items": null,
            "left": null,
            "margin": null,
            "max_height": null,
            "max_width": null,
            "min_height": null,
            "min_width": null,
            "object_fit": null,
            "object_position": null,
            "order": null,
            "overflow": null,
            "overflow_x": null,
            "overflow_y": null,
            "padding": null,
            "right": null,
            "top": null,
            "visibility": null,
            "width": "100%"
          }
        },
        "d7c4ee97dde04426999493d28103fc65": {
          "model_module": "yfiles-jupyter-graphs",
          "model_module_version": "^1.10.3",
          "model_name": "GraphModel",
          "state": {
            "_context_pane_mapping": [
              {
                "id": "Neighborhood",
                "title": "Neighborhood"
              },
              {
                "id": "Data",
                "title": "Data"
              },
              {
                "id": "Search",
                "title": "Search"
              },
              {
                "id": "About",
                "title": "About"
              }
            ],
            "_data_importer": "neo4j",
            "_directed": true,
            "_dom_classes": [],
            "_edges": [
              {
                "color": "#CDDC39",
                "directed": true,
                "end": 412,
                "id": 1153054545513808000,
                "label": "TAGGED_AS",
                "properties": {
                  "label": "TAGGED_AS"
                },
                "start": 7,
                "styles": {},
                "thickness_factor": 1
              },
              {
                "color": "#9E9E9E",
                "directed": true,
                "end": 10,
                "id": 1152922604118474800,
                "label": "RESPONSE",
                "properties": {
                  "label": "RESPONSE"
                },
                "start": 9,
                "styles": {},
                "thickness_factor": 1
              },
              {
                "color": "#9E9E9E",
                "directed": true,
                "end": 17,
                "id": 1155174403932160000,
                "label": "RESPONSE",
                "properties": {
                  "label": "RESPONSE"
                },
                "start": 9,
                "styles": {},
                "thickness_factor": 1
              },
              {
                "color": "#9E9E9E",
                "directed": true,
                "end": 18,
                "id": 1157426203745845200,
                "label": "RESPONSE",
                "properties": {
                  "label": "RESPONSE"
                },
                "start": 9,
                "styles": {},
                "thickness_factor": 1
              },
              {
                "color": "#9E9E9E",
                "directed": true,
                "end": 19,
                "id": 1159678003559530500,
                "label": "RESPONSE",
                "properties": {
                  "label": "RESPONSE"
                },
                "start": 9,
                "styles": {},
                "thickness_factor": 1
              },
              {
                "color": "#9C27B0",
                "directed": true,
                "end": 27,
                "id": 1152923703630102500,
                "label": "RELATED_TO",
                "properties": {
                  "label": "RELATED_TO"
                },
                "start": 26,
                "styles": {},
                "thickness_factor": 1
              },
              {
                "color": "#9C27B0",
                "directed": true,
                "end": 28,
                "id": 1155175503443787800,
                "label": "RELATED_TO",
                "properties": {
                  "label": "RELATED_TO"
                },
                "start": 26,
                "styles": {},
                "thickness_factor": 1
              },
              {
                "color": "#9C27B0",
                "directed": true,
                "end": 29,
                "id": 1157427303257473000,
                "label": "RELATED_TO",
                "properties": {
                  "label": "RELATED_TO"
                },
                "start": 26,
                "styles": {},
                "thickness_factor": 1
              },
              {
                "color": "#9C27B0",
                "directed": true,
                "end": 415,
                "id": 1159679103071158300,
                "label": "RELATED_TO",
                "properties": {
                  "label": "RELATED_TO"
                },
                "start": 26,
                "styles": {},
                "thickness_factor": 1
              },
              {
                "color": "#9C27B0",
                "directed": true,
                "end": 416,
                "id": 1161930902884843500,
                "label": "RELATED_TO",
                "properties": {
                  "label": "RELATED_TO"
                },
                "start": 26,
                "styles": {},
                "thickness_factor": 1
              },
              {
                "color": "#2196F3",
                "directed": true,
                "end": 184,
                "id": 1152963286048702500,
                "label": "MANIFESTS",
                "properties": {
                  "label": "MANIFESTS"
                },
                "start": 28,
                "styles": {},
                "thickness_factor": 1
              },
              {
                "color": "#4CAF50",
                "directed": true,
                "end": 169,
                "id": 1152953390444052500,
                "label": "REALIZATION",
                "properties": {
                  "label": "REALIZATION"
                },
                "start": 29,
                "styles": {},
                "thickness_factor": 1
              },
              {
                "color": "#F44336",
                "directed": true,
                "end": 170,
                "id": 1152954489955680300,
                "label": "CONTRIBUTION",
                "properties": {
                  "label": "CONTRIBUTION"
                },
                "start": 29,
                "styles": {},
                "thickness_factor": 1
              },
              {
                "color": "#607D8B",
                "directed": true,
                "end": 171,
                "id": 1152955589467308000,
                "label": "INCLUSION",
                "properties": {
                  "label": "INCLUSION"
                },
                "start": 29,
                "styles": {},
                "thickness_factor": 1
              },
              {
                "color": "#607D8B",
                "directed": true,
                "end": 172,
                "id": 1155207389280993300,
                "label": "INCLUSION",
                "properties": {
                  "label": "INCLUSION"
                },
                "start": 29,
                "styles": {},
                "thickness_factor": 1
              },
              {
                "color": "#607D8B",
                "directed": true,
                "end": 173,
                "id": 1157459189094678500,
                "label": "INCLUSION",
                "properties": {
                  "label": "INCLUSION"
                },
                "start": 29,
                "styles": {},
                "thickness_factor": 1
              },
              {
                "color": "#673AB7",
                "directed": true,
                "end": 152,
                "id": 1152956688978935800,
                "label": "COPING",
                "properties": {
                  "label": "COPING"
                },
                "start": 29,
                "styles": {},
                "thickness_factor": 1
              },
              {
                "color": "#CDDC39",
                "directed": true,
                "end": 174,
                "id": 1152957788490563600,
                "label": "DETERMINANT",
                "properties": {
                  "label": "DETERMINANT"
                },
                "start": 29,
                "styles": {},
                "thickness_factor": 1
              },
              {
                "color": "#9E9E9E",
                "directed": true,
                "end": 176,
                "id": 6917566411036426000,
                "label": "STABILIZES",
                "properties": {
                  "label": "STABILIZES"
                },
                "start": 29,
                "styles": {},
                "thickness_factor": 1
              },
              {
                "color": "#9E9E9E",
                "directed": true,
                "end": 177,
                "id": 6917566411036426000,
                "label": "STABILIZES",
                "properties": {
                  "label": "STABILIZES"
                },
                "start": 29,
                "styles": {},
                "thickness_factor": 1
              },
              {
                "color": "#9E9E9E",
                "directed": true,
                "end": 178,
                "id": 6917566411036426000,
                "label": "STABILIZES",
                "properties": {
                  "label": "STABILIZES"
                },
                "start": 29,
                "styles": {},
                "thickness_factor": 1
              },
              {
                "color": "#9C27B0",
                "directed": true,
                "end": 179,
                "id": 6917567510548054000,
                "label": "INCREASES",
                "properties": {
                  "label": "INCREASES"
                },
                "start": 29,
                "styles": {},
                "thickness_factor": 1
              },
              {
                "color": "#2196F3",
                "directed": true,
                "end": 180,
                "id": 6917568610059682000,
                "label": "ENHANCES",
                "properties": {
                  "label": "ENHANCES"
                },
                "start": 29,
                "styles": {},
                "thickness_factor": 1
              },
              {
                "color": "#4CAF50",
                "directed": true,
                "end": 181,
                "id": 6917569709571310000,
                "label": "IMPROVES",
                "properties": {
                  "label": "IMPROVES"
                },
                "start": 29,
                "styles": {},
                "thickness_factor": 1
              },
              {
                "color": "#F44336",
                "directed": true,
                "end": 152,
                "id": 6917574107617821000,
                "label": "AFFECTS",
                "properties": {
                  "label": "AFFECTS"
                },
                "start": 29,
                "styles": {},
                "thickness_factor": 1
              },
              {
                "color": "#607D8B",
                "directed": true,
                "end": 171,
                "id": 6917601595408515000,
                "label": "INCLUDES",
                "properties": {
                  "label": "INCLUDES"
                },
                "start": 29,
                "styles": {},
                "thickness_factor": 1
              },
              {
                "color": "#607D8B",
                "directed": true,
                "end": 172,
                "id": 6917601595408515000,
                "label": "INCLUDES",
                "properties": {
                  "label": "INCLUDES"
                },
                "start": 29,
                "styles": {},
                "thickness_factor": 1
              },
              {
                "color": "#607D8B",
                "directed": true,
                "end": 173,
                "id": 6917601595408515000,
                "label": "INCLUDES",
                "properties": {
                  "label": "INCLUDES"
                },
                "start": 29,
                "styles": {},
                "thickness_factor": 1
              },
              {
                "color": "#673AB7",
                "directed": true,
                "end": 99,
                "id": 6917646675385254000,
                "label": "TALK_TO",
                "properties": {
                  "label": "TALK_TO"
                },
                "start": 29,
                "styles": {},
                "thickness_factor": 1
              },
              {
                "color": "#673AB7",
                "directed": true,
                "end": 313,
                "id": 6917646675385254000,
                "label": "TALK_TO",
                "properties": {
                  "label": "TALK_TO"
                },
                "start": 29,
                "styles": {},
                "thickness_factor": 1
              },
              {
                "color": "#673AB7",
                "directed": true,
                "end": 355,
                "id": 6917646675385254000,
                "label": "TALK_TO",
                "properties": {
                  "label": "TALK_TO"
                },
                "start": 29,
                "styles": {},
                "thickness_factor": 1
              },
              {
                "color": "#673AB7",
                "directed": true,
                "end": 356,
                "id": 6917646675385254000,
                "label": "TALK_TO",
                "properties": {
                  "label": "TALK_TO"
                },
                "start": 29,
                "styles": {},
                "thickness_factor": 1
              },
              {
                "color": "#673AB7",
                "directed": true,
                "end": 357,
                "id": 6917646675385254000,
                "label": "TALK_TO",
                "properties": {
                  "label": "TALK_TO"
                },
                "start": 29,
                "styles": {},
                "thickness_factor": 1
              },
              {
                "color": "#CDDC39",
                "directed": true,
                "end": 358,
                "id": 6917647774896882000,
                "label": "FIND_OUT",
                "properties": {
                  "label": "FIND_OUT"
                },
                "start": 29,
                "styles": {},
                "thickness_factor": 1
              },
              {
                "color": "#9E9E9E",
                "directed": true,
                "end": 169,
                "id": 6917674163175948000,
                "label": "REALIZES_ABILITIES",
                "properties": {
                  "label": "REALIZES_ABILITIES"
                },
                "start": 29,
                "styles": {},
                "thickness_factor": 1
              },
              {
                "color": "#9C27B0",
                "directed": true,
                "end": 169,
                "id": 6917675262687576000,
                "label": "COPE_WITH_NORMAL_STRESSES",
                "properties": {
                  "label": "COPE_WITH_NORMAL_STRESSES"
                },
                "start": 29,
                "styles": {},
                "thickness_factor": 1
              },
              {
                "color": "#2196F3",
                "directed": true,
                "end": 169,
                "id": 6917676362199204000,
                "label": "WORK_PRODUCTIVELY",
                "properties": {
                  "label": "WORK_PRODUCTIVELY"
                },
                "start": 29,
                "styles": {},
                "thickness_factor": 1
              },
              {
                "color": "#4CAF50",
                "directed": true,
                "end": 169,
                "id": 6917677461710832000,
                "label": "MAKE_CONTRIBUTION_TO_COMMUNITY",
                "properties": {
                  "label": "MAKE_CONTRIBUTION_TO_COMMUNITY"
                },
                "start": 29,
                "styles": {},
                "thickness_factor": 1
              },
              {
                "color": "#F44336",
                "directed": true,
                "end": 174,
                "id": 6917678561222459000,
                "label": "DETERMINES",
                "properties": {
                  "label": "DETERMINES"
                },
                "start": 29,
                "styles": {},
                "thickness_factor": 1
              },
              {
                "color": "#607D8B",
                "directed": true,
                "end": 99,
                "id": 1153107322071941000,
                "label": "SEEK_SUPPORT",
                "properties": {
                  "label": "SEEK_SUPPORT"
                },
                "start": 29,
                "styles": {},
                "thickness_factor": 1
              },
              {
                "color": "#607D8B",
                "directed": true,
                "end": 313,
                "id": 1157610921699311600,
                "label": "SEEK_SUPPORT",
                "properties": {
                  "label": "SEEK_SUPPORT"
                },
                "start": 29,
                "styles": {},
                "thickness_factor": 1
              },
              {
                "color": "#607D8B",
                "directed": true,
                "end": 355,
                "id": 6917714845106176000,
                "label": "SEEK_SUPPORT",
                "properties": {
                  "label": "SEEK_SUPPORT"
                },
                "start": 29,
                "styles": {},
                "thickness_factor": 1
              },
              {
                "color": "#607D8B",
                "directed": true,
                "end": 356,
                "id": 1155359121885626400,
                "label": "SEEK_SUPPORT",
                "properties": {
                  "label": "SEEK_SUPPORT"
                },
                "start": 29,
                "styles": {},
                "thickness_factor": 1
              },
              {
                "color": "#607D8B",
                "directed": true,
                "end": 357,
                "id": 1159862721512996900,
                "label": "SEEK_SUPPORT",
                "properties": {
                  "label": "SEEK_SUPPORT"
                },
                "start": 29,
                "styles": {},
                "thickness_factor": 1
              },
              {
                "color": "#607D8B",
                "directed": true,
                "end": 358,
                "id": 1162114521326682000,
                "label": "SEEK_SUPPORT",
                "properties": {
                  "label": "SEEK_SUPPORT"
                },
                "start": 29,
                "styles": {},
                "thickness_factor": 1
              },
              {
                "color": "#673AB7",
                "directed": true,
                "end": 31,
                "id": 1152924803141730300,
                "label": "USED_TECHNIQUE",
                "properties": {
                  "label": "USED_TECHNIQUE"
                },
                "start": 32,
                "styles": {},
                "thickness_factor": 1
              },
              {
                "color": "#CDDC39",
                "directed": true,
                "end": 128,
                "id": 1152945693862658000,
                "label": "HATES",
                "properties": {
                  "label": "HATES"
                },
                "start": 32,
                "styles": {},
                "thickness_factor": 1
              },
              {
                "color": "#9E9E9E",
                "directed": true,
                "end": 31,
                "id": 1153056744537063400,
                "label": "CREATED_WITH",
                "properties": {
                  "label": "CREATED_WITH"
                },
                "start": 32,
                "styles": {},
                "thickness_factor": 1
              },
              {
                "color": "#9C27B0",
                "directed": true,
                "end": 128,
                "id": 1153062242095202300,
                "label": "HATE",
                "properties": {
                  "label": "HATE"
                },
                "start": 32,
                "styles": {},
                "thickness_factor": 1
              },
              {
                "color": "#2196F3",
                "directed": true,
                "end": 40,
                "id": 6917533425687593000,
                "label": "CAUSE",
                "properties": {
                  "label": "CAUSE"
                },
                "start": 39,
                "styles": {},
                "thickness_factor": 1
              }
            ],
            "_graph_layout": {},
            "_highlight": [],
            "_license": {},
            "_model_module": "yfiles-jupyter-graphs",
            "_model_module_version": "^1.10.3",
            "_model_name": "GraphModel",
            "_neighborhood": {},
            "_nodes": [
              {
                "color": "#2196F3",
                "id": 7,
                "label": "Night",
                "position": [
                  0,
                  0
                ],
                "properties": {
                  "id": "Night",
                  "label": "Tag:__Entity__"
                },
                "scale_factor": 1,
                "size": [
                  55,
                  55
                ],
                "styles": {},
                "type": "#2196F3"
              },
              {
                "color": "#4CAF50",
                "id": 412,
                "label": "Good Night",
                "position": [
                  0,
                  0
                ],
                "properties": {
                  "id": "Good Night",
                  "label": "__Entity__:Pattern"
                },
                "scale_factor": 1,
                "size": [
                  55,
                  55
                ],
                "styles": {},
                "type": "#4CAF50"
              },
              {
                "color": "#F44336",
                "id": 9,
                "label": "Bye",
                "position": [
                  0,
                  0
                ],
                "properties": {
                  "id": "Bye",
                  "label": "__Entity__:Goodbyetag"
                },
                "scale_factor": 1,
                "size": [
                  55,
                  55
                ],
                "styles": {},
                "type": "#F44336"
              },
              {
                "color": "#F44336",
                "id": 10,
                "label": "See You Later",
                "position": [
                  0,
                  0
                ],
                "properties": {
                  "id": "See You Later",
                  "label": "__Entity__:Goodbyetag"
                },
                "scale_factor": 1,
                "size": [
                  55,
                  55
                ],
                "styles": {},
                "type": "#F44336"
              },
              {
                "color": "#607D8B",
                "id": 17,
                "label": "Have A Nice Day",
                "position": [
                  0,
                  0
                ],
                "properties": {
                  "id": "Have A Nice Day",
                  "label": "__Entity__:Goodbyeresponse"
                },
                "scale_factor": 1,
                "size": [
                  55,
                  55
                ],
                "styles": {},
                "type": "#607D8B"
              },
              {
                "color": "#607D8B",
                "id": 18,
                "label": "Bye! Come Back Again",
                "position": [
                  0,
                  0
                ],
                "properties": {
                  "id": "Bye! Come Back Again",
                  "label": "__Entity__:Goodbyeresponse"
                },
                "scale_factor": 1,
                "size": [
                  55,
                  55
                ],
                "styles": {},
                "type": "#607D8B"
              },
              {
                "color": "#607D8B",
                "id": 19,
                "label": "I'Ll See You Soon",
                "position": [
                  0,
                  0
                ],
                "properties": {
                  "id": "I'Ll See You Soon",
                  "label": "__Entity__:Goodbyeresponse"
                },
                "scale_factor": 1,
                "size": [
                  55,
                  55
                ],
                "styles": {},
                "type": "#607D8B"
              },
              {
                "color": "#673AB7",
                "id": 26,
                "label": "Skill",
                "position": [
                  0,
                  0
                ],
                "properties": {
                  "id": "Skill",
                  "label": "__Entity__:Skill"
                },
                "scale_factor": 1,
                "size": [
                  55,
                  55
                ],
                "styles": {},
                "type": "#673AB7"
              },
              {
                "color": "#CDDC39",
                "id": 27,
                "label": "Anxiety",
                "position": [
                  0,
                  0
                ],
                "properties": {
                  "id": "Anxiety",
                  "label": "__Entity__:Skill:Concept"
                },
                "scale_factor": 1,
                "size": [
                  55,
                  55
                ],
                "styles": {},
                "type": "#CDDC39"
              },
              {
                "color": "#9E9E9E",
                "id": 28,
                "label": "Depression",
                "position": [
                  0,
                  0
                ],
                "properties": {
                  "id": "Depression",
                  "label": "Mental illness:Mental health disorder:__Entity__:Mental health condition:Skill"
                },
                "scale_factor": 1,
                "size": [
                  55,
                  55
                ],
                "styles": {},
                "type": "#9E9E9E"
              },
              {
                "color": "#9C27B0",
                "id": 29,
                "label": "Mental Health",
                "position": [
                  0,
                  0
                ],
                "properties": {
                  "id": "Mental Health",
                  "label": "__Entity__:Skill:Concept:Health condition"
                },
                "scale_factor": 1,
                "size": [
                  55,
                  55
                ],
                "styles": {},
                "type": "#9C27B0"
              },
              {
                "color": "#673AB7",
                "id": 415,
                "label": "Conversation",
                "position": [
                  0,
                  0
                ],
                "properties": {
                  "id": "Conversation",
                  "label": "__Entity__:Skill"
                },
                "scale_factor": 1,
                "size": [
                  55,
                  55
                ],
                "styles": {},
                "type": "#673AB7"
              },
              {
                "color": "#673AB7",
                "id": 416,
                "label": "Mental Healthcare Worker",
                "position": [
                  0,
                  0
                ],
                "properties": {
                  "id": "Mental Healthcare Worker",
                  "label": "__Entity__:Skill"
                },
                "scale_factor": 1,
                "size": [
                  55,
                  55
                ],
                "styles": {},
                "type": "#673AB7"
              },
              {
                "color": "#2196F3",
                "id": 184,
                "label": "Symptoms",
                "position": [
                  0,
                  0
                ],
                "properties": {
                  "id": "Symptoms",
                  "label": "Attribute:Characteristic:Concept:Condition:__Entity__"
                },
                "scale_factor": 1,
                "size": [
                  55,
                  55
                ],
                "styles": {},
                "type": "#2196F3"
              },
              {
                "color": "#4CAF50",
                "id": 169,
                "label": "Individual",
                "position": [
                  0,
                  0
                ],
                "properties": {
                  "id": "Individual",
                  "label": "__Entity__:Person"
                },
                "scale_factor": 1,
                "size": [
                  55,
                  55
                ],
                "styles": {},
                "type": "#4CAF50"
              },
              {
                "color": "#F44336",
                "id": 170,
                "label": "Community",
                "position": [
                  0,
                  0
                ],
                "properties": {
                  "id": "Community",
                  "label": "__Entity__:Community"
                },
                "scale_factor": 1,
                "size": [
                  55,
                  55
                ],
                "styles": {},
                "type": "#F44336"
              },
              {
                "color": "#607D8B",
                "id": 171,
                "label": "Emotional Well-Being",
                "position": [
                  0,
                  0
                ],
                "properties": {
                  "id": "Emotional Well-Being",
                  "label": "__Entity__:Well-being"
                },
                "scale_factor": 1,
                "size": [
                  55,
                  55
                ],
                "styles": {},
                "type": "#607D8B"
              },
              {
                "color": "#607D8B",
                "id": 172,
                "label": "Psychological Well-Being",
                "position": [
                  0,
                  0
                ],
                "properties": {
                  "id": "Psychological Well-Being",
                  "label": "__Entity__:Well-being"
                },
                "scale_factor": 1,
                "size": [
                  55,
                  55
                ],
                "styles": {},
                "type": "#607D8B"
              },
              {
                "color": "#607D8B",
                "id": 173,
                "label": "Social Well-Being",
                "position": [
                  0,
                  0
                ],
                "properties": {
                  "id": "Social Well-Being",
                  "label": "__Entity__:Well-being"
                },
                "scale_factor": 1,
                "size": [
                  55,
                  55
                ],
                "styles": {},
                "type": "#607D8B"
              },
              {
                "color": "#673AB7",
                "id": 152,
                "label": "Stress",
                "position": [
                  0,
                  0
                ],
                "properties": {
                  "id": "Stress",
                  "label": "Emotion:__Entity__:Concept:Factor"
                },
                "scale_factor": 1,
                "size": [
                  55,
                  55
                ],
                "styles": {},
                "type": "#673AB7"
              },
              {
                "color": "#CDDC39",
                "id": 174,
                "label": "Choices",
                "position": [
                  0,
                  0
                ],
                "properties": {
                  "id": "Choices",
                  "label": "__Entity__:Decision"
                },
                "scale_factor": 1,
                "size": [
                  55,
                  55
                ],
                "styles": {},
                "type": "#CDDC39"
              },
              {
                "color": "#9E9E9E",
                "id": 176,
                "label": "Constructive Behaviors",
                "position": [
                  0,
                  0
                ],
                "properties": {
                  "id": "Constructive Behaviors",
                  "label": "__Entity__:Concept"
                },
                "scale_factor": 1,
                "size": [
                  55,
                  55
                ],
                "styles": {},
                "type": "#9E9E9E"
              },
              {
                "color": "#9C27B0",
                "id": 177,
                "label": "Emotions",
                "position": [
                  0,
                  0
                ],
                "properties": {
                  "id": "Emotions",
                  "label": "Aspect of life:__Entity__:Concept:Aspect"
                },
                "scale_factor": 1,
                "size": [
                  55,
                  55
                ],
                "styles": {},
                "type": "#9C27B0"
              },
              {
                "color": "#9C27B0",
                "id": 178,
                "label": "Thoughts",
                "position": [
                  0,
                  0
                ],
                "properties": {
                  "id": "Thoughts",
                  "label": "Aspect of life:__Entity__:Concept:Aspect"
                },
                "scale_factor": 1,
                "size": [
                  55,
                  55
                ],
                "styles": {},
                "type": "#9C27B0"
              },
              {
                "color": "#9E9E9E",
                "id": 179,
                "label": "Productivity",
                "position": [
                  0,
                  0
                ],
                "properties": {
                  "id": "Productivity",
                  "label": "__Entity__:Concept"
                },
                "scale_factor": 1,
                "size": [
                  55,
                  55
                ],
                "styles": {},
                "type": "#9E9E9E"
              },
              {
                "color": "#9E9E9E",
                "id": 180,
                "label": "Self-Image",
                "position": [
                  0,
                  0
                ],
                "properties": {
                  "id": "Self-Image",
                  "label": "__Entity__:Concept"
                },
                "scale_factor": 1,
                "size": [
                  55,
                  55
                ],
                "styles": {},
                "type": "#9E9E9E"
              },
              {
                "color": "#9C27B0",
                "id": 181,
                "label": "Relationships",
                "position": [
                  0,
                  0
                ],
                "properties": {
                  "id": "Relationships",
                  "label": "Aspect of life:__Entity__:Concept:Aspect"
                },
                "scale_factor": 1,
                "size": [
                  55,
                  55
                ],
                "styles": {},
                "type": "#9C27B0"
              },
              {
                "color": "#4CAF50",
                "id": 99,
                "label": "Friend",
                "position": [
                  0,
                  0
                ],
                "properties": {
                  "id": "Friend",
                  "label": "__Entity__:Person"
                },
                "scale_factor": 1,
                "size": [
                  55,
                  55
                ],
                "styles": {},
                "type": "#4CAF50"
              },
              {
                "color": "#2196F3",
                "id": 313,
                "label": "Family Member",
                "position": [
                  0,
                  0
                ],
                "properties": {
                  "id": "Family Member",
                  "label": "__Entity__:Person:People"
                },
                "scale_factor": 1,
                "size": [
                  55,
                  55
                ],
                "styles": {},
                "type": "#2196F3"
              },
              {
                "color": "#4CAF50",
                "id": 355,
                "label": "Someone",
                "position": [
                  0,
                  0
                ],
                "properties": {
                  "id": "Someone",
                  "label": "__Entity__:Person"
                },
                "scale_factor": 1,
                "size": [
                  55,
                  55
                ],
                "styles": {},
                "type": "#4CAF50"
              },
              {
                "color": "#4CAF50",
                "id": 356,
                "label": "Colleague",
                "position": [
                  0,
                  0
                ],
                "properties": {
                  "id": "Colleague",
                  "label": "__Entity__:Person"
                },
                "scale_factor": 1,
                "size": [
                  55,
                  55
                ],
                "styles": {},
                "type": "#4CAF50"
              },
              {
                "color": "#4CAF50",
                "id": 357,
                "label": "Gp",
                "position": [
                  0,
                  0
                ],
                "properties": {
                  "id": "Gp",
                  "label": "__Entity__:Person"
                },
                "scale_factor": 1,
                "size": [
                  55,
                  55
                ],
                "styles": {},
                "type": "#4CAF50"
              },
              {
                "color": "#4CAF50",
                "id": 358,
                "label": "Information",
                "position": [
                  0,
                  0
                ],
                "properties": {
                  "id": "Information",
                  "label": "__Entity__:Information"
                },
                "scale_factor": 1,
                "size": [
                  55,
                  55
                ],
                "styles": {},
                "type": "#4CAF50"
              },
              {
                "color": "#4CAF50",
                "id": 32,
                "label": "I",
                "position": [
                  0,
                  0
                ],
                "properties": {
                  "id": "I",
                  "label": "__Entity__:Person"
                },
                "scale_factor": 1,
                "size": [
                  55,
                  55
                ],
                "styles": {},
                "type": "#4CAF50"
              },
              {
                "color": "#F44336",
                "id": 31,
                "label": "Deep Learning & Natural Language Processing Techniques",
                "position": [
                  0,
                  0
                ],
                "properties": {
                  "id": "Deep Learning & Natural Language Processing Techniques",
                  "label": "Technology:__Entity__:Technique"
                },
                "scale_factor": 1,
                "size": [
                  55,
                  55
                ],
                "styles": {},
                "type": "#F44336"
              },
              {
                "color": "#2196F3",
                "id": 128,
                "label": "Hate-Me",
                "position": [
                  0,
                  0
                ],
                "properties": {
                  "id": "Hate-Me",
                  "label": "Tag:__Entity__"
                },
                "scale_factor": 1,
                "size": [
                  55,
                  55
                ],
                "styles": {},
                "type": "#2196F3"
              },
              {
                "color": "#607D8B",
                "id": 39,
                "label": "Stressed",
                "position": [
                  0,
                  0
                ],
                "properties": {
                  "id": "Stressed",
                  "label": "Emotion:__Entity__"
                },
                "scale_factor": 1,
                "size": [
                  55,
                  55
                ],
                "styles": {},
                "type": "#607D8B"
              },
              {
                "color": "#673AB7",
                "id": 40,
                "label": "What Do You Think Is Causing This?",
                "position": [
                  0,
                  0
                ],
                "properties": {
                  "id": "What Do You Think Is Causing This?",
                  "label": "__Entity__"
                },
                "scale_factor": 1,
                "size": [
                  55,
                  55
                ],
                "styles": {},
                "type": "#673AB7"
              }
            ],
            "_overview": {
              "enabled": null,
              "overview_set": false
            },
            "_selected_graph": [
              [],
              []
            ],
            "_sidebar": {
              "enabled": false,
              "start_with": null
            },
            "_view_count": null,
            "_view_module": "yfiles-jupyter-graphs",
            "_view_module_version": "^1.10.3",
            "_view_name": "GraphView",
            "layout": "IPY_MODEL_94d6c9b9dfa34bd59b2c4eff05a76c48"
          }
        }
      }
    }
  },
  "nbformat": 4,
  "nbformat_minor": 0
}